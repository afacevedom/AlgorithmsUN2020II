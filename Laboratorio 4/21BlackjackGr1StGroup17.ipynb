{
  "nbformat": 4,
  "nbformat_minor": 0,
  "metadata": {
    "colab": {
      "name": "lab4.ipynb",
      "provenance": [],
      "collapsed_sections": [
        "ssT2WKWMEwWT",
        "gY3OWCx_Fj8n",
        "pCjypSRzZVgl",
        "WNo7-33vOjFV",
        "B6XUk42Lr-Ee"
      ]
    },
    "kernelspec": {
      "name": "python3",
      "display_name": "Python 3"
    }
  },
  "cells": [
    {
      "cell_type": "markdown",
      "metadata": {
        "id": "ZfdlCm9NEYHa",
        "colab_type": "text"
      },
      "source": [
        "# LABORATORIO 4\n",
        "### Monte Carlo – 21 Blackjack – Groups"
      ]
    },
    {
      "cell_type": "code",
      "metadata": {
        "id": "2_HxEktubL5J",
        "colab_type": "code",
        "colab": {}
      },
      "source": [
        "import random as r\n",
        "import numpy as np\n",
        "import matplotlib.pyplot as plt"
      ],
      "execution_count": 1,
      "outputs": []
    },
    {
      "cell_type": "code",
      "metadata": {
        "id": "b32oHI64dF2I",
        "colab_type": "code",
        "colab": {}
      },
      "source": [
        "baraja_española = (1,2,3,4,5,6,7,10,11,12,1,2,3,4,5,6,7,8,9,10,11,12,1,2,3,4,5,6,7,8,9,10,11,12,1,2,3,4,5,6,7,8,9,10,11,12)\n",
        "baraja_poker = (1,2,3,4,5,6,7,8,9,10,11,12,13,1,2,3,4,5,6,7,8,9,10,11,12,13,1,2,3,4,5,6,7,8,9,10,11,12,13,1,2,3,4,5,6,7,8,9,10,11,12,13)\n",
        "\n",
        "baraja_española_2 = (1,2,3,4,5,6,7,8,9,10,10,10,1,2,3,4,5,6,7,8,9,10,10,10,1,2,3,4,5,6,7,8,9,10,10,10,1,2,3,4,5,6,7,8,9,10,10,10)\n",
        "baraja_poker_2 = (1,2,3,4,5,6,7,8,9,10,10,10,10,1,2,3,4,5,6,7,8,9,10,10,10,10,1,2,3,4,5,6,7,8,9,10,10,10,10,1,2,3,4,5,6,7,8,9,10,10,10,10)\n",
        "\n",
        "numero_experimentos = 10000"
      ],
      "execution_count": 2,
      "outputs": []
    },
    {
      "cell_type": "markdown",
      "metadata": {
        "id": "ssT2WKWMEwWT",
        "colab_type": "text"
      },
      "source": [
        "## PUNTO 1"
      ]
    },
    {
      "cell_type": "code",
      "metadata": {
        "id": "tOkYD-W8EyLw",
        "colab_type": "code",
        "colab": {
          "base_uri": "https://localhost:8080/",
          "height": 282
        },
        "outputId": "fed06ea2-f2ea-43ad-b83a-d5c217d76adb"
      },
      "source": [
        "n_ganadas = 0\n",
        "n_cartas_ganadas = 0\n",
        "n_cartas_ganadas_lista = []\n",
        "\n",
        "for i in range(numero_experimentos):\n",
        "    deck = list(baraja_española)\n",
        "    sum_cartas = 0\n",
        "    n_cartas = 0\n",
        "    while sum_cartas < 21:\n",
        "        carta = r.choice(deck)\n",
        "        sum_cartas += carta\n",
        "        n_cartas += 1\n",
        "        deck.remove(carta)\n",
        "    if sum_cartas == 21:\n",
        "        n_ganadas += 1\n",
        "        n_cartas_ganadas += n_cartas\n",
        "        n_cartas_ganadas_lista.append(n_cartas)\n",
        "print(\"Probabilidad de Ganar con Baraja Espaniola:\", n_ganadas/numero_experimentos, \"Promedio de cartas para ganar:\", n_cartas_ganadas/n_ganadas)\n",
        "# Graficar\n",
        "arreglo_ncg = np.array(n_cartas_ganadas_lista)\n",
        "plt.hist(arreglo_ncg);"
      ],
      "execution_count": 3,
      "outputs": [
        {
          "output_type": "stream",
          "text": [
            "Probabilidad de Ganar con Baraja Espaniola: 0.1575 Promedio de cartas para ganar: 3.5073015873015874\n"
          ],
          "name": "stdout"
        },
        {
          "output_type": "display_data",
          "data": {
            "image/png": "[encoded data removed]",
            "text/plain": [
              "<Figure size 432x288 with 1 Axes>"
            ]
          },
          "metadata": {
            "tags": [],
            "needs_background": "light"
          }
        }
      ]
    },
    {
      "cell_type": "code",
      "metadata": {
        "id": "Na7vGi7-E2-u",
        "colab_type": "code",
        "colab": {
          "base_uri": "https://localhost:8080/",
          "height": 282
        },
        "outputId": "3c9e8c93-0771-4f47-a542-7dcc0fc19e3c"
      },
      "source": [
        "n_ganadas = 0\n",
        "n_cartas_ganadas = 0\n",
        "n_cartas_ganadas_lista = []\n",
        "\n",
        "for i in range(numero_experimentos):\n",
        "    deck = list(baraja_poker)\n",
        "    sum_cartas = 0\n",
        "    n_cartas = 0\n",
        "    while sum_cartas < 21:\n",
        "        carta = r.choice(deck)\n",
        "        sum_cartas += carta\n",
        "        n_cartas += 1\n",
        "        deck.remove(carta)\n",
        "    if sum_cartas == 21:\n",
        "        n_ganadas += 1\n",
        "        n_cartas_ganadas += n_cartas\n",
        "        n_cartas_ganadas_lista.append(n_cartas)\n",
        "print(\"Probabilidad de Ganar con Baraja Espaniola:\", n_ganadas/numero_experimentos, \"Promedio de cartas para ganar:\", n_cartas_ganadas/n_ganadas)\n",
        "# Graficar\n",
        "arreglo_ncg = np.array(n_cartas_ganadas_lista)\n",
        "plt.hist(arreglo_ncg);"
      ],
      "execution_count": 4,
      "outputs": [
        {
          "output_type": "stream",
          "text": [
            "Probabilidad de Ganar con Baraja Espaniola: 0.1437 Promedio de cartas para ganar: 3.2428670842032012\n"
          ],
          "name": "stdout"
        },
        {
          "output_type": "display_data",
          "data": {
            "image/png": "[encoded data removed]",
            "text/plain": [
              "<Figure size 432x288 with 1 Axes>"
            ]
          },
          "metadata": {
            "tags": [],
            "needs_background": "light"
          }
        }
      ]
    },
    {
      "cell_type": "markdown",
      "metadata": {
        "id": "gY3OWCx_Fj8n",
        "colab_type": "text"
      },
      "source": [
        "## PUNTO 2"
      ]
    },
    {
      "cell_type": "code",
      "metadata": {
        "id": "2V8IpXABFlV8",
        "colab_type": "code",
        "colab": {
          "base_uri": "https://localhost:8080/",
          "height": 282
        },
        "outputId": "9999cac2-a6a9-46be-c3f0-1c64da42b2bb"
      },
      "source": [
        "n_ganadas = 0\n",
        "n_cartas_ganadas = 0\n",
        "n_cartas_ganadas_lista = []\n",
        "\n",
        "for i in range(numero_experimentos):\n",
        "    deck = list(baraja_española_2)\n",
        "    sum_cartas = 0\n",
        "    n_cartas = 0\n",
        "    while sum_cartas < 21:\n",
        "        carta = r.choice(deck)\n",
        "        sum_cartas += carta\n",
        "        n_cartas += 1\n",
        "        deck.remove(carta)\n",
        "    if sum_cartas == 21:\n",
        "        n_ganadas += 1\n",
        "        n_cartas_ganadas += n_cartas\n",
        "        n_cartas_ganadas_lista.append(n_cartas)\n",
        "print(\"Probabilidad de Ganar con Baraja Espaniola:\", n_ganadas/numero_experimentos, \"Promedio de cartas para ganar:\", n_cartas_ganadas/n_ganadas)\n",
        "# Graficar\n",
        "arreglo_ncg = np.array(n_cartas_ganadas_lista)\n",
        "plt.hist(arreglo_ncg);"
      ],
      "execution_count": 5,
      "outputs": [
        {
          "output_type": "stream",
          "text": [
            "Probabilidad de Ganar con Baraja Espaniola: 0.1514 Promedio de cartas para ganar: 3.726552179656539\n"
          ],
          "name": "stdout"
        },
        {
          "output_type": "display_data",
          "data": {
            "image/png": "[encoded data removed]",
            "text/plain": [
              "<Figure size 432x288 with 1 Axes>"
            ]
          },
          "metadata": {
            "tags": [],
            "needs_background": "light"
          }
        }
      ]
    },
    {
      "cell_type": "code",
      "metadata": {
        "id": "LKW4MTBeGUT2",
        "colab_type": "code",
        "colab": {
          "base_uri": "https://localhost:8080/",
          "height": 283
        },
        "outputId": "61e03621-1986-4192-c0aa-582b0386a250"
      },
      "source": [
        "n_ganadas = 0\n",
        "n_cartas_ganadas = 0\n",
        "n_cartas_ganadas_lista = []\n",
        "\n",
        "for i in range(numero_experimentos):\n",
        "    deck = list(baraja_poker_2)\n",
        "    sum_cartas = 0\n",
        "    n_cartas = 0\n",
        "    while sum_cartas < 21:\n",
        "        carta = r.choice(deck)\n",
        "        sum_cartas += carta\n",
        "        n_cartas += 1\n",
        "        deck.remove(carta)\n",
        "    if sum_cartas == 21:\n",
        "        n_ganadas += 1\n",
        "        n_cartas_ganadas += n_cartas\n",
        "        n_cartas_ganadas_lista.append(n_cartas)\n",
        "print(\"Probabilidad de Ganar con Baraja Espaniola:\", n_ganadas/numero_experimentos, \"Promedio de cartas para ganar:\", n_cartas_ganadas/n_ganadas)\n",
        "# Graficar\n",
        "arreglo_ncg = np.array(n_cartas_ganadas_lista)\n",
        "plt.hist(arreglo_ncg);"
      ],
      "execution_count": 6,
      "outputs": [
        {
          "output_type": "stream",
          "text": [
            "Probabilidad de Ganar con Baraja Espaniola: 0.1392 Promedio de cartas para ganar: 3.593390804597701\n"
          ],
          "name": "stdout"
        },
        {
          "output_type": "display_data",
          "data": {
            "image/png": "[encoded data removed]",
            "text/plain": [
              "<Figure size 432x288 with 1 Axes>"
            ]
          },
          "metadata": {
            "tags": [],
            "needs_background": "light"
          }
        }
      ]
    },
    {
      "cell_type": "markdown",
      "metadata": {
        "id": "pCjypSRzZVgl",
        "colab_type": "text"
      },
      "source": [
        "## PUNTO 3"
      ]
    },
    {
      "cell_type": "code",
      "metadata": {
        "id": "xKlqAkYvGdo9",
        "colab_type": "code",
        "colab": {
          "base_uri": "https://localhost:8080/",
          "height": 282
        },
        "outputId": "199c0ee6-5afb-40e4-893d-20f5310d1f75"
      },
      "source": [
        "n_ganadas = 0\n",
        "n_cartas_ganadas = 0\n",
        "n_cartas_ganadas_lista = []\n",
        "\n",
        "for i in range(numero_experimentos):\n",
        "    deck = list(baraja_española_2)\n",
        "    sum_cartas = 19\n",
        "    deck.remove(7)\n",
        "    deck.remove(7)\n",
        "    deck.remove(5)\n",
        "    for i in range(int(45/2)):\n",
        "      deck.remove(r.choice(deck))\n",
        "    n_cartas = 0\n",
        "    while sum_cartas < 21:\n",
        "        carta = r.choice(deck)\n",
        "        sum_cartas += carta\n",
        "        n_cartas += 1\n",
        "        deck.remove(carta)\n",
        "    if sum_cartas == 21:\n",
        "        n_ganadas += 1\n",
        "        n_cartas_ganadas += n_cartas\n",
        "        n_cartas_ganadas_lista.append(n_cartas)\n",
        "print(\"Probabilidad de Ganar con Baraja Espaniola:\", n_ganadas/numero_experimentos, \"Promedio de cartas para ganar:\", n_cartas_ganadas/n_ganadas)\n",
        "# Graficar\n",
        "arreglo_ncg = np.array(n_cartas_ganadas_lista)\n",
        "plt.hist(arreglo_ncg, bins=3);"
      ],
      "execution_count": 7,
      "outputs": [
        {
          "output_type": "stream",
          "text": [
            "Probabilidad de Ganar con Baraja Espaniola: 0.0949 Promedio de cartas para ganar: 1.0558482613277134\n"
          ],
          "name": "stdout"
        },
        {
          "output_type": "display_data",
          "data": {
            "image/png": "[encoded data removed]",
            "text/plain": [
              "<Figure size 432x288 with 1 Axes>"
            ]
          },
          "metadata": {
            "tags": [],
            "needs_background": "light"
          }
        }
      ]
    },
    {
      "cell_type": "code",
      "metadata": {
        "id": "Mn71gZt9Nfjf",
        "colab_type": "code",
        "colab": {
          "base_uri": "https://localhost:8080/",
          "height": 282
        },
        "outputId": "7a42b80f-bd52-4243-cb67-c668ba3cd9b4"
      },
      "source": [
        "n_ganadas = 0\n",
        "n_cartas_ganadas = 0\n",
        "n_cartas_ganadas_lista = []\n",
        "\n",
        "for i in range(numero_experimentos):\n",
        "    deck = list(baraja_poker_2)\n",
        "    sum_cartas = 19\n",
        "    deck.remove(7)\n",
        "    deck.remove(7)\n",
        "    deck.remove(5)\n",
        "    for i in range(int(49/2)):\n",
        "      deck.remove(r.choice(deck))\n",
        "    n_cartas = 0\n",
        "    while sum_cartas < 21:\n",
        "        carta = r.choice(deck)\n",
        "        sum_cartas += carta\n",
        "        n_cartas += 1\n",
        "        deck.remove(carta)\n",
        "    if sum_cartas == 21:\n",
        "        n_ganadas += 1\n",
        "        n_cartas_ganadas += n_cartas\n",
        "        n_cartas_ganadas_lista.append(n_cartas)\n",
        "print(\"Probabilidad de Ganar con Baraja de Poker:\", n_ganadas/numero_experimentos, \"Promedio de cartas para ganar:\", n_cartas_ganadas/n_ganadas)\n",
        "# Graficar\n",
        "arreglo_ncg = np.array(n_cartas_ganadas_lista)\n",
        "plt.hist(arreglo_ncg, bins=3);"
      ],
      "execution_count": null,
      "outputs": [
        {
          "output_type": "stream",
          "text": [
            "Probabilidad de Ganar con Baraja de Poker: 0.0879 Promedio de cartas para ganar: 1.0523321956769056\n"
          ],
          "name": "stdout"
        },
        {
          "output_type": "display_data",
          "data": {
            "image/png": "[encoded data removed]",
            "text/plain": [
              "<Figure size 432x288 with 1 Axes>"
            ]
          },
          "metadata": {
            "tags": [],
            "needs_background": "light"
          }
        }
      ]
    },
    {
      "cell_type": "markdown",
      "metadata": {
        "id": "WNo7-33vOjFV",
        "colab_type": "text"
      },
      "source": [
        "## PUNTO 4"
      ]
    },
    {
      "cell_type": "markdown",
      "metadata": {
        "id": "4dE5rjGnPIW6",
        "colab_type": "text"
      },
      "source": [
        "Las barajas calientes teniendo [7,7,5] son las barajas que tengan más 1's y 2's. Contrariamente, las barajas frias seran las que tengan menos 1's y 2's.\n",
        "\n",
        "\n",
        "*   12 Cartas:\n",
        " *    Baraja Caliente: [1,1,1,1,2,2,2,2,x,x,x,x] (donde x es cualquier numero).\n",
        " -> Probabilidad de ganar: 1/3 + ((1/3)*(3/13)) = 1/3 + 1/13 = 0.41025641\n",
        "\n",
        " *    Baraja Fria: [x,x,x,x,x,x,x,x,x,x,x,x] (donde x es cualquier numero excepto 1's y 2's).\n",
        " -> Probabilidad de ganar: 0\n",
        "\n",
        "*   10 Cartas:\n",
        " *    Baraja Caliente: [1,1,1,1,2,2,2,2,x,x] (donde x es cualquier numero).\n",
        " -> Probabilidad de ganar: 2/5 + ((2/5)*(1/3)) = 2/5 + 2/15 = 0.533333333\n",
        "\n",
        " *    Baraja Fria: [x,x,x,x,x,x,x,x,x,x] (donde x es cualquier numero excepto 1's y 2's). \n",
        " -> Probabilidad de ganar: 0"
      ]
    },
    {
      "cell_type": "code",
      "metadata": {
        "id": "JK42v_XHOH3t",
        "colab_type": "code",
        "colab": {
          "base_uri": "https://localhost:8080/",
          "height": 282
        },
        "outputId": "70035175-a37b-4158-ad9d-3e86ddc38811"
      },
      "source": [
        "# 12 CARTAS HOT DECK\n",
        "n_ganadas = 0\n",
        "n_cartas_ganadas = 0\n",
        "n_cartas_ganadas_lista = []\n",
        "\n",
        "for i in range(numero_experimentos):\n",
        "    deck = [1,1,1,1,2,2,2,2,10,10,10,10]\n",
        "    sum_cartas = 19\n",
        "    n_cartas = 0\n",
        "    while sum_cartas < 21:\n",
        "        carta = r.choice(deck)\n",
        "        sum_cartas += carta\n",
        "        n_cartas += 1\n",
        "        deck.remove(carta)\n",
        "    if sum_cartas == 21:\n",
        "        n_ganadas += 1\n",
        "        n_cartas_ganadas += n_cartas\n",
        "        n_cartas_ganadas_lista.append(n_cartas)\n",
        "print(\"Probabilidad de Ganar con Hot Deck de 12 Cartas:\", n_ganadas/numero_experimentos, \"Promedio de cartas para ganar:\", n_cartas_ganadas/n_ganadas)\n",
        "# Graficar\n",
        "arreglo_ncg = np.array(n_cartas_ganadas_lista)\n",
        "plt.hist(arreglo_ncg, bins=2);"
      ],
      "execution_count": null,
      "outputs": [
        {
          "output_type": "stream",
          "text": [
            "Probabilidad de Ganar con Hot Deck de 12 Cartas: 0.4207 Promedio de cartas para ganar: 1.2203470406465415\n"
          ],
          "name": "stdout"
        },
        {
          "output_type": "display_data",
          "data": {
            "image/png": "[encoded data removed]",
            "text/plain": [
              "<Figure size 432x288 with 1 Axes>"
            ]
          },
          "metadata": {
            "tags": [],
            "needs_background": "light"
          }
        }
      ]
    },
    {
      "cell_type": "code",
      "metadata": {
        "id": "vHa0zyzdS9Ir",
        "colab_type": "code",
        "colab": {
          "base_uri": "https://localhost:8080/",
          "height": 282
        },
        "outputId": "83aed738-8b38-46f0-9fe9-3ef2b820fc95"
      },
      "source": [
        "# 12 CARTAS COLD DECK\n",
        "n_ganadas = 0\n",
        "n_cartas_ganadas = 0\n",
        "n_cartas_ganadas_lista = []\n",
        "\n",
        "for i in range(numero_experimentos):\n",
        "    deck = [8,8,8,8,9,9,9,9,10,10,10,10]\n",
        "    sum_cartas = 19\n",
        "    n_cartas = 0\n",
        "    while sum_cartas < 21:\n",
        "        carta = r.choice(deck)\n",
        "        sum_cartas += carta\n",
        "        n_cartas += 1\n",
        "        deck.remove(carta)\n",
        "    if sum_cartas == 21:\n",
        "        n_ganadas += 1\n",
        "        n_cartas_ganadas += n_cartas\n",
        "        n_cartas_ganadas_lista.append(n_cartas)\n",
        "print(\"Probabilidad de Ganar con Cold Deck de 12 Cartas:\", n_ganadas/numero_experimentos, \"Promedio de cartas para ganar:\", n_cartas_ganadas)\n",
        "# Graficar\n",
        "arreglo_ncg = np.array(n_cartas_ganadas_lista)\n",
        "plt.hist(arreglo_ncg, bins=2);"
      ],
      "execution_count": null,
      "outputs": [
        {
          "output_type": "stream",
          "text": [
            "Probabilidad de Ganar con Cold Deck de 12 Cartas: 0.0 Promedio de cartas para ganar: 0\n"
          ],
          "name": "stdout"
        },
        {
          "output_type": "display_data",
          "data": {
            "image/png": "[encoded data removed]",
            "text/plain": [
              "<Figure size 432x288 with 1 Axes>"
            ]
          },
          "metadata": {
            "tags": [],
            "needs_background": "light"
          }
        }
      ]
    },
    {
      "cell_type": "code",
      "metadata": {
        "id": "mVIW1qhlUN4O",
        "colab_type": "code",
        "colab": {
          "base_uri": "https://localhost:8080/",
          "height": 282
        },
        "outputId": "46b3b0b8-240e-4136-cd98-8c31d925dd4a"
      },
      "source": [
        "# 10 CARTAS HOT DECK\n",
        "n_ganadas = 0\n",
        "n_cartas_ganadas = 0\n",
        "n_cartas_ganadas_lista = []\n",
        "\n",
        "for i in range(numero_experimentos):\n",
        "    deck = [1,1,1,1,2,2,2,2,10,10]\n",
        "    sum_cartas = 19\n",
        "    n_cartas = 0\n",
        "    while sum_cartas < 21:\n",
        "        carta = r.choice(deck)\n",
        "        sum_cartas += carta\n",
        "        n_cartas += 1\n",
        "        deck.remove(carta)\n",
        "    if sum_cartas == 21:\n",
        "        n_ganadas += 1\n",
        "        n_cartas_ganadas += n_cartas\n",
        "        n_cartas_ganadas_lista.append(n_cartas)\n",
        "print(\"Probabilidad de Ganar con Hot Deck de 10 Cartas:\", n_ganadas/numero_experimentos, \"Promedio de cartas para ganar:\", n_cartas_ganadas/n_ganadas)\n",
        "# Graficar\n",
        "arreglo_ncg = np.array(n_cartas_ganadas_lista)\n",
        "plt.hist(arreglo_ncg, bins=2);"
      ],
      "execution_count": null,
      "outputs": [
        {
          "output_type": "stream",
          "text": [
            "Probabilidad de Ganar con Hot Deck de 10 Cartas: 0.5359 Promedio de cartas para ganar: 1.2451949990669902\n"
          ],
          "name": "stdout"
        },
        {
          "output_type": "display_data",
          "data": {
            "image/png": "[encoded data removed]",
            "text/plain": [
              "<Figure size 432x288 with 1 Axes>"
            ]
          },
          "metadata": {
            "tags": [],
            "needs_background": "light"
          }
        }
      ]
    },
    {
      "cell_type": "code",
      "metadata": {
        "id": "772rTvCJUekj",
        "colab_type": "code",
        "colab": {
          "base_uri": "https://localhost:8080/",
          "height": 282
        },
        "outputId": "bc5a86e0-bf5f-49b7-e7f9-107477fa5a0f"
      },
      "source": [
        "# 10 CARTAS COLD DECK\n",
        "n_ganadas = 0\n",
        "n_cartas_ganadas = 0\n",
        "n_cartas_ganadas_lista = []\n",
        "\n",
        "for i in range(numero_experimentos):\n",
        "    deck = [8,8,8,8,9,9,9,9,10,10]\n",
        "    sum_cartas = 19\n",
        "    n_cartas = 0\n",
        "    while sum_cartas < 21:\n",
        "        carta = r.choice(deck)\n",
        "        sum_cartas += carta\n",
        "        n_cartas += 1\n",
        "        deck.remove(carta)\n",
        "    if sum_cartas == 21:\n",
        "        n_ganadas += 1\n",
        "        n_cartas_ganadas += n_cartas\n",
        "        n_cartas_ganadas_lista.append(n_cartas)\n",
        "print(\"Probabilidad de Ganar con Cold Deck de 10 Cartas:\", n_ganadas/numero_experimentos, \"Promedio de cartas para ganar:\", n_cartas_ganadas)\n",
        "# Graficar\n",
        "arreglo_ncg = np.array(n_cartas_ganadas_lista)\n",
        "plt.hist(arreglo_ncg, bins=2);"
      ],
      "execution_count": null,
      "outputs": [
        {
          "output_type": "stream",
          "text": [
            "Probabilidad de Ganar con Cold Deck de 10 Cartas: 0.0 Promedio de cartas para ganar: 0\n"
          ],
          "name": "stdout"
        },
        {
          "output_type": "display_data",
          "data": {
            "image/png": "[encoded data removed]",
            "text/plain": [
              "<Figure size 432x288 with 1 Axes>"
            ]
          },
          "metadata": {
            "tags": [],
            "needs_background": "light"
          }
        }
      ]
    },
    {
      "cell_type": "markdown",
      "metadata": {
        "id": "B6XUk42Lr-Ee",
        "colab_type": "text"
      },
      "source": [
        "## PUNTO 5"
      ]
    },
    {
      "cell_type": "code",
      "metadata": {
        "id": "rIeQVorTsAIi",
        "colab_type": "code",
        "colab": {
          "base_uri": "https://localhost:8080/",
          "height": 34
        },
        "outputId": "2558acdb-9a4b-4f9e-c4b8-e910ffe43254"
      },
      "source": [
        "#%%time\n",
        "# # Con baraja española, hot deck de 10 cartas\n",
        "# ganancias = 0\n",
        "# for i in range(100000):#10 MILLONES :V, pero no aún :v):\n",
        "#   for j in range(600): #juegá 600 juegos en el fin de semana\n",
        "#     if r.random() <= 0.1:\n",
        "#       #HOT DECK - Juego con [7,7,5] iniciales y baraja caliente con 10 cartas\n",
        "#       deck = [1,1,1,1,2,2,2,2,10,10]\n",
        "#       sum_cartas = 19\n",
        "#       while sum_cartas < 21:\n",
        "#         carta = r.choice(deck)\n",
        "#         sum_cartas += carta\n",
        "#         deck.remove(carta)\n",
        "#       if sum_cartas == 21:\n",
        "#         ganancias += 1000\n",
        "#       else:\n",
        "#         ganancias -= 1000\n",
        "#     else:\n",
        "#       #COLD DECK - Juego con 0 cartas iniciales y baraja completa\n",
        "#       deck = [1,2,3,4,5,6,7,8,9,10,10,10,1,2,3,4,5,6,7,8,9,10,10,10,1,2,3,4,5,6,7,8,9,10,10,10,1,2,3,4,5,6,7,8,9,10,10,10]\n",
        "#       sum_cartas = 0\n",
        "#       while sum_cartas < 21:\n",
        "#         carta = r.choice(deck)\n",
        "#         sum_cartas += carta\n",
        "#         deck.remove(carta)\n",
        "#       if sum_cartas == 21:\n",
        "#         ganancias += 10\n",
        "#       else:\n",
        "#         ganancias -= 10\n",
        "# print(\"Ganancias en promedio de los fines de semana, baraja española y hot deck 10 cartas:\", ganancias/100000)\n",
        "\n",
        "%%writefile test.cpp\n",
        "#include <bits/stdc++.h>\n",
        "#include <cstdlib>\n",
        "#include <ctime>\n",
        "\n",
        "using namespace std;\n",
        "\n",
        "//Con baraja española, hot deck de 10 cartas\n",
        "int main(int Argc,char* Args[]){\n",
        "  int numero_simulaciones = 1000000;\n",
        "  srand((unsigned) time(0));\n",
        "  long long ganancias = 0;\n",
        "  for (int i = 0; i < numero_simulaciones; i++){\n",
        "      for (int j = 0; j < 600; j++){\n",
        "          int is_hotdeck = rand()%10;\n",
        "          if (!is_hotdeck){\n",
        "              int deck[10] = {1,1,1,1,2,2,2,2,10,10};\n",
        "              int deck_size = 10;\n",
        "              int sum_cartas = 19;\n",
        "              while (sum_cartas < 21){\n",
        "                  int pos_carta = rand() % deck_size;\n",
        "                  sum_cartas += deck[pos_carta];\n",
        "                  deck[pos_carta] = deck[deck_size-1];\n",
        "                  deck[deck_size-1] = 0;\n",
        "                  deck_size--;\n",
        "              }\n",
        "              if (sum_cartas == 21){\n",
        "                  ganancias += 1000;\n",
        "              } else {\n",
        "                  ganancias -= 1000;\n",
        "              }\n",
        "          } else {\n",
        "              int deck[48] = {1,2,3,4,5,6,7,8,9,10,10,10,1,2,3,4,5,6,7,8,9,10,10,10,1,2,3,4,5,6,7,8,9,10,10,10,1,2,3,4,5,6,7,8,9,10,10,10};\n",
        "              int deck_size = 48;\n",
        "              int sum_cartas = 0;\n",
        "              while (sum_cartas < 21){\n",
        "                  int pos_carta = rand() % deck_size;\n",
        "                  sum_cartas += deck[pos_carta];\n",
        "                  deck[pos_carta] = deck[deck_size-1];\n",
        "                  deck[deck_size-1] = 0;\n",
        "                  deck_size--;\n",
        "              }\n",
        "              if (sum_cartas == 21){\n",
        "                  ganancias += 10;\n",
        "              } else {\n",
        "                  ganancias -= 10;\n",
        "              }\n",
        "          }\n",
        "      }\n",
        "  }\n",
        "  cout << \"\\n\\nPromedio de ganancias de Bob en un fin de semana: \" << ganancias/numero_simulaciones << \"\\n\\n\\n\";\n",
        "  return 0;\n",
        "}"
      ],
      "execution_count": null,
      "outputs": [
        {
          "output_type": "stream",
          "text": [
            "Overwriting test.cpp\n"
          ],
          "name": "stdout"
        }
      ]
    },
    {
      "cell_type": "code",
      "metadata": {
        "id": "Z16GvyGz1baA",
        "colab_type": "code",
        "colab": {
          "base_uri": "https://localhost:8080/",
          "height": 238
        },
        "outputId": "12a6261f-9df1-4e95-baf8-754991ff5687"
      },
      "source": [
        "%%time\n",
        "%%script bash\n",
        "g++ test.cpp -o test\n",
        "ls -laX\n",
        "./test"
      ],
      "execution_count": null,
      "outputs": [
        {
          "output_type": "stream",
          "text": [
            "total 36\n",
            "drwxr-xr-x 1 root root  4096 Sep 16 16:29 sample_data\n",
            "-rwxr-xr-x 1 root root 15696 Sep 21 00:36 test\n",
            "drwxr-xr-x 1 root root  4096 Sep 21 00:36 .\n",
            "drwxr-xr-x 1 root root  4096 Sep 20 15:49 ..\n",
            "drwxr-xr-x 1 root root  4096 Sep 16 16:29 .config\n",
            "-rw-r--r-- 1 root root  1772 Sep 21 00:36 test.cpp\n",
            "\n",
            "\n",
            "Promedio de ganancias de Bob en un fin de semana: 220\n",
            "\n",
            "CPU times: user 4.99 ms, sys: 7 ms, total: 12 ms\n",
            "Wall time: 57.8 s\n"
          ],
          "name": "stdout"
        }
      ]
    },
    {
      "cell_type": "code",
      "metadata": {
        "colab_type": "code",
        "id": "TURmdlRnjdUM",
        "colab": {
          "base_uri": "https://localhost:8080/",
          "height": 282
        },
        "outputId": "994c60ef-17c4-464e-b319-5a60e496038d"
      },
      "source": [
        "# Con baraja española, hot deck de 10 cartas\n",
        "ganancias = 0\n",
        "n_cartas_ganadas_lista = []\n",
        "for i in range(numero_experimentos):\n",
        "  for j in range(600): #juegá 600 juegos en el fin de semana\n",
        "    if r.random() <= 0.1:\n",
        "      #HOT DECK - Juego con [7,7,5] iniciales y baraja caliente con 10 cartas\n",
        "      n_ganadas = 0\n",
        "      n_cartas_ganadas = 0\n",
        "      deck = [1,1,1,1,2,2,2,2,10,10]\n",
        "      sum_cartas = 19\n",
        "      n_cartas = 0\n",
        "      while sum_cartas < 21:\n",
        "        carta = r.choice(deck)\n",
        "        sum_cartas += carta\n",
        "        n_cartas += 1\n",
        "        deck.remove(carta)\n",
        "      if sum_cartas == 21:\n",
        "        n_ganadas += 1\n",
        "        n_cartas_ganadas += n_cartas\n",
        "        n_cartas_ganadas_lista.append(n_cartas)\n",
        "        ganancias += 1000\n",
        "      else:\n",
        "        ganancias -= 1000\n",
        "    else:\n",
        "      #COLD DECK - Juego con 0 cartas iniciales y baraja completa\n",
        "      deck = list(baraja_española_2)\n",
        "      n_ganadas = 0\n",
        "      n_cartas_ganadas = 0\n",
        "      sum_cartas = 0\n",
        "      n_cartas = 0\n",
        "      while sum_cartas < 21:\n",
        "        carta = r.choice(deck)\n",
        "        sum_cartas += carta\n",
        "        n_cartas += 1\n",
        "        deck.remove(carta)\n",
        "      if sum_cartas == 21:\n",
        "        n_ganadas += 1\n",
        "        n_cartas_ganadas += n_cartas\n",
        "        n_cartas_ganadas_lista.append(n_cartas)\n",
        "        ganancias += 10\n",
        "      else:\n",
        "        ganancias -= 10\n",
        "print(\"Ganancias en promedio de los fines de semana, baraja española y hot deck 10 cartas:\", ganancias/numero_experimentos)\n",
        "plt.hist(n_cartas_ganadas_lista,bins=15);"
      ],
      "execution_count": null,
      "outputs": [
        {
          "output_type": "stream",
          "text": [
            "Ganancias en promedio de los fines de semana, baraja española y hot deck 10 cartas: 228.36\n"
          ],
          "name": "stdout"
        },
        {
          "output_type": "display_data",
          "data": {
            "image/png": "[encoded data removed]",
            "text/plain": [
              "<Figure size 432x288 with 1 Axes>"
            ]
          },
          "metadata": {
            "tags": [],
            "needs_background": "light"
          }
        }
      ]
    },
    {
      "cell_type": "code",
      "metadata": {
        "id": "wJMYS-pXxZLd",
        "colab_type": "code",
        "colab": {
          "base_uri": "https://localhost:8080/",
          "height": 34
        },
        "outputId": "ee530a52-e3b1-44e7-9a25-a157992016dd"
      },
      "source": [
        "# # Con baraja española, hot deck de 12 cartas\n",
        "# ganancias = 0\n",
        "# for i in range(100000):#10 MILLONES :V, pero no aún :v):\n",
        "#   for j in range(600): #juegá 600 juegos en el fin de semana\n",
        "#     if r.random() <= 0.1:\n",
        "#       #HOT DECK - Juego con [7,7,5] iniciales y baraja caliente con 10 cartas\n",
        "#       n_ganadas = 0\n",
        "#       n_cartas_ganadas = 0\n",
        "#       n_cartas_ganadas_lista = []\n",
        "#       deck = [1,1,1,1,2,2,2,2,10,10,10,10]\n",
        "#       sum_cartas = 19\n",
        "#       n_cartas = 0\n",
        "#       while sum_cartas < 21:\n",
        "#         carta = r.choice(deck)\n",
        "#         sum_cartas += carta\n",
        "#         n_cartas += 1\n",
        "#         deck.remove(carta)\n",
        "#       if sum_cartas == 21:\n",
        "#         n_ganadas += 1\n",
        "#         n_cartas_ganadas += n_cartas\n",
        "#         n_cartas_ganadas_lista.append(n_cartas)\n",
        "#         ganancias += 1000\n",
        "#       else:\n",
        "#         ganancias -= 1000\n",
        "#     else:\n",
        "#       #COLD DECK - Juego con 0 cartas iniciales y baraja completa\n",
        "#       deck = list(baraja_española_2)\n",
        "#       n_ganadas = 0\n",
        "#       n_cartas_ganadas = 0\n",
        "#       n_cartas_ganadas_lista = []\n",
        "#       sum_cartas = 0\n",
        "#       n_cartas = 0\n",
        "#       while sum_cartas < 21:\n",
        "#         carta = r.choice(deck)\n",
        "#         sum_cartas += carta\n",
        "#         n_cartas += 1\n",
        "#         deck.remove(carta)\n",
        "#       if sum_cartas == 21:\n",
        "#         n_ganadas += 1\n",
        "#         n_cartas_ganadas += n_cartas\n",
        "#         n_cartas_ganadas_lista.append(n_cartas)\n",
        "#         ganancias += 10\n",
        "#       else:\n",
        "#         ganancias -= 10\n",
        "# print(\"Ganancias en promedio de los fines de semana, baraja española y hot deck 12 cartas:\", ganancias/100000)\n",
        "\n",
        "%%writefile test.cpp\n",
        "#include <bits/stdc++.h>\n",
        "#include <cstdlib>\n",
        "#include <ctime>\n",
        "\n",
        "using namespace std;\n",
        "\n",
        "//Con baraja española, hot deck de 12 cartas\n",
        "int main(int Argc,char* Args[]){\n",
        "  int numero_simulaciones = 1000000;\n",
        "  srand((unsigned) time(0));\n",
        "  long long ganancias = 0;\n",
        "  for (int i = 0; i < numero_simulaciones; i++){\n",
        "      for (int j = 0; j < 600; j++){\n",
        "          int is_hotdeck = rand()%10;\n",
        "          if (!is_hotdeck){\n",
        "              int deck[12] = {1,1,1,1,2,2,2,2,10,10,10,10};\n",
        "              int deck_size = 12;\n",
        "              int sum_cartas = 19;\n",
        "              while (sum_cartas < 21){\n",
        "                  int pos_carta = rand() % deck_size;\n",
        "                  sum_cartas += deck[pos_carta];\n",
        "                  deck[pos_carta] = deck[deck_size-1];\n",
        "                  deck[deck_size-1] = 0;\n",
        "                  deck_size--;\n",
        "              }\n",
        "              if (sum_cartas == 21){\n",
        "                  ganancias += 1000;\n",
        "              } else {\n",
        "                  ganancias -= 1000;\n",
        "              }\n",
        "          } else {\n",
        "              int deck[48] = {1,2,3,4,5,6,7,8,9,10,10,10,1,2,3,4,5,6,7,8,9,10,10,10,1,2,3,4,5,6,7,8,9,10,10,10,1,2,3,4,5,6,7,8,9,10,10,10};\n",
        "              int deck_size = 48;\n",
        "              int sum_cartas = 0;\n",
        "              while (sum_cartas < 21){\n",
        "                  int pos_carta = rand() % deck_size;\n",
        "                  sum_cartas += deck[pos_carta];\n",
        "                  deck[pos_carta] = deck[deck_size-1];\n",
        "                  deck[deck_size-1] = 0;\n",
        "                  deck_size--;\n",
        "              }\n",
        "              if (sum_cartas == 21){\n",
        "                  ganancias += 10;\n",
        "              } else {\n",
        "                  ganancias -= 10;\n",
        "              }\n",
        "          }\n",
        "      }\n",
        "  }\n",
        "  cout << \"\\n\\nPromedio de ganancias de Bob en un fin de semana: \" << ganancias/numero_simulaciones << \"\\n\\n\\n\";\n",
        "  return 0;\n",
        "}"
      ],
      "execution_count": null,
      "outputs": [
        {
          "output_type": "stream",
          "text": [
            "Overwriting test.cpp\n"
          ],
          "name": "stdout"
        }
      ]
    },
    {
      "cell_type": "code",
      "metadata": {
        "id": "NMsmPg4Q_L_h",
        "colab_type": "code",
        "colab": {
          "base_uri": "https://localhost:8080/",
          "height": 255
        },
        "outputId": "8305bfb4-7587-45f6-fc2b-716b523e7d2c"
      },
      "source": [
        "%%time\n",
        "%%script bash\n",
        "g++ test.cpp -o test\n",
        "ls -laX\n",
        "./test"
      ],
      "execution_count": null,
      "outputs": [
        {
          "output_type": "stream",
          "text": [
            "total 36\n",
            "drwxr-xr-x 1 root root  4096 Sep 16 16:29 sample_data\n",
            "-rwxr-xr-x 1 root root 15696 Sep 21 00:38 test\n",
            "drwxr-xr-x 1 root root  4096 Sep 21 00:38 .\n",
            "drwxr-xr-x 1 root root  4096 Sep 20 15:49 ..\n",
            "drwxr-xr-x 1 root root  4096 Sep 16 16:29 .config\n",
            "-rw-r--r-- 1 root root  1780 Sep 21 00:38 test.cpp\n",
            "\n",
            "\n",
            "Promedio de ganancias de Bob en un fin de semana: -12873\n",
            "\n",
            "\n",
            "CPU times: user 7.14 ms, sys: 5 ms, total: 12.1 ms\n",
            "Wall time: 58.4 s\n"
          ],
          "name": "stdout"
        }
      ]
    },
    {
      "cell_type": "code",
      "metadata": {
        "id": "chm2n9yFo4-P",
        "colab_type": "code",
        "colab": {
          "base_uri": "https://localhost:8080/",
          "height": 282
        },
        "outputId": "7453f784-dbb5-4325-8d46-faaf5f3e5d49"
      },
      "source": [
        "# Con baraja española, hot deck de 12 cartas\n",
        "ganancias = 0\n",
        "n_cartas_ganadas_lista = []\n",
        "for i in range(numero_experimentos):\n",
        "  for j in range(600): #juegá 600 juegos en el fin de semana\n",
        "    if r.random() <= 0.1:\n",
        "      #HOT DECK - Juego con [7,7,5] iniciales y baraja caliente con 10 cartas\n",
        "      n_ganadas = 0\n",
        "      n_cartas_ganadas = 0\n",
        "      deck = [1,1,1,1,2,2,2,2,10,10,10,10]\n",
        "      sum_cartas = 19\n",
        "      n_cartas = 0\n",
        "      while sum_cartas < 21:\n",
        "        carta = r.choice(deck)\n",
        "        sum_cartas += carta\n",
        "        n_cartas += 1\n",
        "        deck.remove(carta)\n",
        "      if sum_cartas == 21:\n",
        "        n_ganadas += 1\n",
        "        n_cartas_ganadas += n_cartas\n",
        "        n_cartas_ganadas_lista.append(n_cartas)\n",
        "        ganancias += 1000\n",
        "      else:\n",
        "        ganancias -= 1000\n",
        "    else:\n",
        "      #COLD DECK - Juego con 0 cartas iniciales y baraja completa\n",
        "      deck = list(baraja_española_2)\n",
        "      n_ganadas = 0\n",
        "      n_cartas_ganadas = 0\n",
        "      sum_cartas = 0\n",
        "      n_cartas = 0\n",
        "      while sum_cartas < 21:\n",
        "        carta = r.choice(deck)\n",
        "        sum_cartas += carta\n",
        "        n_cartas += 1\n",
        "        deck.remove(carta)\n",
        "      if sum_cartas == 21:\n",
        "        n_ganadas += 1\n",
        "        n_cartas_ganadas += n_cartas\n",
        "        n_cartas_ganadas_lista.append(n_cartas)\n",
        "        ganancias += 10\n",
        "      else:\n",
        "        ganancias -= 10\n",
        "print(\"Ganancias en promedio de los fines de semana, baraja española y hot deck 12 cartas:\", ganancias/numero_experimentos)\n",
        "plt.hist(n_cartas_ganadas_lista, bins=15);"
      ],
      "execution_count": null,
      "outputs": [
        {
          "output_type": "stream",
          "text": [
            "Ganancias en promedio de los fines de semana, baraja española y hot deck 12 cartas: -12871.781\n"
          ],
          "name": "stdout"
        },
        {
          "output_type": "display_data",
          "data": {
            "image/png": "[encoded data removed]",
            "text/plain": [
              "<Figure size 432x288 with 1 Axes>"
            ]
          },
          "metadata": {
            "tags": [],
            "needs_background": "light"
          }
        }
      ]
    },
    {
      "cell_type": "code",
      "metadata": {
        "id": "cgs8JS5tejKI",
        "colab_type": "code",
        "colab": {
          "base_uri": "https://localhost:8080/",
          "height": 34
        },
        "outputId": "e4bb6ebf-f2d9-4b72-cf2d-44635ce81ba3"
      },
      "source": [
        "# # Con baraja poker, hot deck de 10 cartas\n",
        "# ganancias = 0\n",
        "# for i in range(100000):#10 MILLONES :V, pero no aún :v):\n",
        "#   for j in range(600): #juegá 600 juegos en el fin de semana\n",
        "#     if r.random() <= 0.1:\n",
        "#       #HOT DECK - Juego con [7,7,5] iniciales y baraja caliente con 10 cartas\n",
        "#       n_ganadas = 0\n",
        "#       n_cartas_ganadas = 0\n",
        "#       n_cartas_ganadas_lista = []\n",
        "#       deck = [1,1,1,1,2,2,2,2,10,10]\n",
        "#       sum_cartas = 19\n",
        "#       n_cartas = 0\n",
        "#       while sum_cartas < 21:\n",
        "#         carta = r.choice(deck)\n",
        "#         sum_cartas += carta\n",
        "#         n_cartas += 1\n",
        "#         deck.remove(carta)\n",
        "#       if sum_cartas == 21:\n",
        "#         n_ganadas += 1\n",
        "#         n_cartas_ganadas += n_cartas\n",
        "#         n_cartas_ganadas_lista.append(n_cartas)\n",
        "#         ganancias += 1000\n",
        "#       else:\n",
        "#         ganancias -= 1000\n",
        "#     else:\n",
        "#       #COLD DECK - Juego con 0 cartas iniciales y baraja completa\n",
        "#       deck = list(baraja_poker_2)\n",
        "#       n_ganadas = 0\n",
        "#       n_cartas_ganadas = 0\n",
        "#       n_cartas_ganadas_lista = []\n",
        "#       sum_cartas = 0\n",
        "#       n_cartas = 0\n",
        "#       while sum_cartas < 21:\n",
        "#         carta = r.choice(deck)\n",
        "#         sum_cartas += carta\n",
        "#         n_cartas += 1\n",
        "#         deck.remove(carta)\n",
        "#       if sum_cartas == 21:\n",
        "#         n_ganadas += 1\n",
        "#         n_cartas_ganadas += n_cartas\n",
        "#         n_cartas_ganadas_lista.append(n_cartas)\n",
        "#         ganancias += 10\n",
        "#       else:\n",
        "#         ganancias -= 10\n",
        "# print(\"Ganancias en promedio de los fines de semana, baraja de poker y hot deck 10 cartas:\", ganancias/100000)\n",
        "\n",
        "%%writefile test.cpp\n",
        "#include <bits/stdc++.h>\n",
        "#include <cstdlib>\n",
        "#include <ctime>\n",
        "\n",
        "using namespace std;\n",
        "\n",
        "//Con baraja de poker, hot deck de 10 cartas\n",
        "int main(int Argc,char* Args[]){\n",
        "  int numero_simulaciones = 1000000;\n",
        "  srand((unsigned) time(0));\n",
        "  long long ganancias = 0;\n",
        "  for (int i = 0; i < numero_simulaciones; i++){\n",
        "      for (int j = 0; j < 600; j++){\n",
        "          int is_hotdeck = rand()%10;\n",
        "          if (!is_hotdeck){\n",
        "              int deck[10] = {1,1,1,1,2,2,2,2,10,10};\n",
        "              int deck_size = 10;\n",
        "              int sum_cartas = 19;\n",
        "              while (sum_cartas < 21){\n",
        "                  int pos_carta = rand() % deck_size;\n",
        "                  sum_cartas += deck[pos_carta];\n",
        "                  deck[pos_carta] = deck[deck_size-1];\n",
        "                  deck[deck_size-1] = 0;\n",
        "                  deck_size--;\n",
        "              }\n",
        "              if (sum_cartas == 21){\n",
        "                  ganancias += 1000;\n",
        "              } else {\n",
        "                  ganancias -= 1000;\n",
        "              }\n",
        "          } else {\n",
        "              int deck[52] = {1,2,3,4,5,6,7,8,9,10,10,10,10,1,2,3,4,5,6,7,8,9,10,10,10,10,1,2,3,4,5,6,7,8,9,10,10,10,10,1,2,3,4,5,6,7,8,9,10,10,10,10};\n",
        "              int deck_size = 52;\n",
        "              int sum_cartas = 0;\n",
        "              while (sum_cartas < 21){\n",
        "                  int pos_carta = rand() % deck_size;\n",
        "                  sum_cartas += deck[pos_carta];\n",
        "                  deck[pos_carta] = deck[deck_size-1];\n",
        "                  deck[deck_size-1] = 0;\n",
        "                  deck_size--;\n",
        "              }\n",
        "              if (sum_cartas == 21){\n",
        "                  ganancias += 10;\n",
        "              } else {\n",
        "                  ganancias -= 10;\n",
        "              }\n",
        "          }\n",
        "      }\n",
        "  }\n",
        "  cout << \"\\n\\nPromedio de ganancias de Bob en un fin de semana: \" << ganancias/numero_simulaciones << \"\\n\\n\\n\";\n",
        "  return 0;\n",
        "}"
      ],
      "execution_count": null,
      "outputs": [
        {
          "output_type": "stream",
          "text": [
            "Overwriting test.cpp\n"
          ],
          "name": "stdout"
        }
      ]
    },
    {
      "cell_type": "code",
      "metadata": {
        "id": "yyXOpVEVCzHE",
        "colab_type": "code",
        "colab": {
          "base_uri": "https://localhost:8080/",
          "height": 255
        },
        "outputId": "974cbf85-af23-472d-e560-769f399748cd"
      },
      "source": [
        "%%time\n",
        "%%script bash\n",
        "g++ test.cpp -o test\n",
        "ls -laX\n",
        "./test"
      ],
      "execution_count": null,
      "outputs": [
        {
          "output_type": "stream",
          "text": [
            "total 36\n",
            "drwxr-xr-x 1 root root  4096 Sep 16 16:29 sample_data\n",
            "-rwxr-xr-x 1 root root 15696 Sep 21 00:40 test\n",
            "drwxr-xr-x 1 root root  4096 Sep 21 00:40 .\n",
            "drwxr-xr-x 1 root root  4096 Sep 20 15:49 ..\n",
            "drwxr-xr-x 1 root root  4096 Sep 16 16:29 .config\n",
            "-rw-r--r-- 1 root root  1785 Sep 21 00:40 test.cpp\n",
            "\n",
            "\n",
            "Promedio de ganancias de Bob en un fin de semana: 125\n",
            "\n",
            "\n",
            "CPU times: user 7.21 ms, sys: 5 ms, total: 12.2 ms\n",
            "Wall time: 56.7 s\n"
          ],
          "name": "stdout"
        }
      ]
    },
    {
      "cell_type": "code",
      "metadata": {
        "id": "M1VwnxJurhdx",
        "colab_type": "code",
        "colab": {
          "base_uri": "https://localhost:8080/",
          "height": 282
        },
        "outputId": "7964cbe4-a823-4a0a-fc7b-f895a2380f99"
      },
      "source": [
        "# Con baraja poker, hot deck de 10 cartas\n",
        "ganancias = 0\n",
        "n_cartas_ganadas_lista = []\n",
        "for i in range(numero_experimentos):\n",
        "  for j in range(600): #juegá 600 juegos en el fin de semana\n",
        "    if r.random() <= 0.1:\n",
        "      #HOT DECK - Juego con [7,7,5] iniciales y baraja caliente con 10 cartas\n",
        "      n_ganadas = 0\n",
        "      n_cartas_ganadas = 0\n",
        "      deck = [1,1,1,1,2,2,2,2,10,10]\n",
        "      sum_cartas = 19\n",
        "      n_cartas = 0\n",
        "      while sum_cartas < 21:\n",
        "        carta = r.choice(deck)\n",
        "        sum_cartas += carta\n",
        "        n_cartas += 1\n",
        "        deck.remove(carta)\n",
        "      if sum_cartas == 21:\n",
        "        n_ganadas += 1\n",
        "        n_cartas_ganadas += n_cartas\n",
        "        n_cartas_ganadas_lista.append(n_cartas)\n",
        "        ganancias += 1000\n",
        "      else:\n",
        "        ganancias -= 1000\n",
        "    else:\n",
        "      #COLD DECK - Juego con 0 cartas iniciales y baraja completa\n",
        "      deck = list(baraja_poker_2)\n",
        "      n_ganadas = 0\n",
        "      n_cartas_ganadas = 0\n",
        "      sum_cartas = 0\n",
        "      n_cartas = 0\n",
        "      while sum_cartas < 21:\n",
        "        carta = r.choice(deck)\n",
        "        sum_cartas += carta\n",
        "        n_cartas += 1\n",
        "        deck.remove(carta)\n",
        "      if sum_cartas == 21:\n",
        "        n_ganadas += 1\n",
        "        n_cartas_ganadas += n_cartas\n",
        "        n_cartas_ganadas_lista.append(n_cartas)\n",
        "        ganancias += 10\n",
        "      else:\n",
        "        ganancias -= 10\n",
        "print(\"Ganancias en promedio de los fines de semana, baraja de poker y hot deck 10 cartas:\", ganancias/numero_experimentos)\n",
        "plt.hist(n_cartas_ganadas_lista, bins=15);"
      ],
      "execution_count": null,
      "outputs": [
        {
          "output_type": "stream",
          "text": [
            "Ganancias en promedio de los fines de semana, baraja de poker y hot deck 10 cartas: 199.488\n"
          ],
          "name": "stdout"
        },
        {
          "output_type": "display_data",
          "data": {
            "image/png": "[encoded data removed]",
            "text/plain": [
              "<Figure size 432x288 with 1 Axes>"
            ]
          },
          "metadata": {
            "tags": [],
            "needs_background": "light"
          }
        }
      ]
    },
    {
      "cell_type": "code",
      "metadata": {
        "id": "XDZZN78pfRWG",
        "colab_type": "code",
        "colab": {
          "base_uri": "https://localhost:8080/",
          "height": 34
        },
        "outputId": "e5cc55cb-afc3-42f6-ed05-e04195cb9511"
      },
      "source": [
        "# # Con baraja de poker, hot deck de 12 cartas\n",
        "# ganancias = 0\n",
        "# for i in range(100000):#10 MILLONES :V, pero no aún :v):\n",
        "#   for j in range(600): #juegá 600 juegos en el fin de semana\n",
        "#     if r.random() <= 0.1:\n",
        "#       #HOT DECK - Juego con [7,7,5] iniciales y baraja caliente con 10 cartas\n",
        "#       n_ganadas = 0\n",
        "#       n_cartas_ganadas = 0\n",
        "#       n_cartas_ganadas_lista = []\n",
        "#       deck = [1,1,1,1,2,2,2,2,10,10,10,10]\n",
        "#       sum_cartas = 19\n",
        "#       n_cartas = 0\n",
        "#       while sum_cartas < 21:\n",
        "#         carta = r.choice(deck)\n",
        "#         sum_cartas += carta\n",
        "#         n_cartas += 1\n",
        "#         deck.remove(carta)\n",
        "#       if sum_cartas == 21:\n",
        "#         n_ganadas += 1\n",
        "#         n_cartas_ganadas += n_cartas\n",
        "#         n_cartas_ganadas_lista.append(n_cartas)\n",
        "#         ganancias += 1000\n",
        "#       else:\n",
        "#         ganancias -= 1000\n",
        "#     else:\n",
        "#       #COLD DECK - Juego con 0 cartas iniciales y baraja completa\n",
        "#       deck = list(baraja_poker_2)\n",
        "#       n_ganadas = 0\n",
        "#       n_cartas_ganadas = 0\n",
        "#       n_cartas_ganadas_lista = []\n",
        "#       sum_cartas = 0\n",
        "#       n_cartas = 0\n",
        "#       while sum_cartas < 21:\n",
        "#         carta = r.choice(deck)\n",
        "#         sum_cartas += carta\n",
        "#         n_cartas += 1\n",
        "#         deck.remove(carta)\n",
        "#       if sum_cartas == 21:\n",
        "#         n_ganadas += 1\n",
        "#         n_cartas_ganadas += n_cartas\n",
        "#         n_cartas_ganadas_lista.append(n_cartas)\n",
        "#         ganancias += 10\n",
        "#       else:\n",
        "#         ganancias -= 10\n",
        "# print(\"Ganancias en promedio de los fines de semana, baraja española y hot deck 12 cartas:\", ganancias/100000)\n",
        "\n",
        "%%writefile test.cpp\n",
        "#include <bits/stdc++.h>\n",
        "#include <cstdlib>\n",
        "#include <ctime>\n",
        "\n",
        "using namespace std;\n",
        "\n",
        "//Con baraja de poker, hot deck de 12 cartas\n",
        "int main(int Argc,char* Args[]){\n",
        "  int numero_simulaciones = 1000000;\n",
        "  srand((unsigned) time(0));\n",
        "  long long ganancias = 0;\n",
        "  for (int i = 0; i < numero_simulaciones; i++){\n",
        "      for (int j = 0; j < 600; j++){\n",
        "          int is_hotdeck = rand()%10;\n",
        "          if (!is_hotdeck){\n",
        "              int deck[12] = {1,1,1,1,2,2,2,2,10,10,10,10};\n",
        "              int deck_size = 12;\n",
        "              int sum_cartas = 19;\n",
        "              while (sum_cartas < 21){\n",
        "                  int pos_carta = rand() % deck_size;\n",
        "                  sum_cartas += deck[pos_carta];\n",
        "                  deck[pos_carta] = deck[deck_size-1];\n",
        "                  deck[deck_size-1] = 0;\n",
        "                  deck_size--;\n",
        "              }\n",
        "              if (sum_cartas == 21){\n",
        "                  ganancias += 1000;\n",
        "              } else {\n",
        "                  ganancias -= 1000;\n",
        "              }\n",
        "          } else {\n",
        "              int deck[52] = {1,2,3,4,5,6,7,8,9,10,10,10,10,1,2,3,4,5,6,7,8,9,10,10,10,10,1,2,3,4,5,6,7,8,9,10,10,10,10,1,2,3,4,5,6,7,8,9,10,10,10,10};\n",
        "              int deck_size = 52;\n",
        "              int sum_cartas = 0;\n",
        "              while (sum_cartas < 21){\n",
        "                  int pos_carta = rand() % deck_size;\n",
        "                  sum_cartas += deck[pos_carta];\n",
        "                  deck[pos_carta] = deck[deck_size-1];\n",
        "                  deck[deck_size-1] = 0;\n",
        "                  deck_size--;\n",
        "              }\n",
        "              if (sum_cartas == 21){\n",
        "                  ganancias += 10;\n",
        "              } else {\n",
        "                  ganancias -= 10;\n",
        "              }\n",
        "          }\n",
        "      }\n",
        "  }\n",
        "  cout << \"\\n\\nPromedio de ganancias de Bob en un fin de semana: \" << ganancias/numero_simulaciones << \"\\n\\n\\n\";\n",
        "  return 0;\n",
        "}"
      ],
      "execution_count": null,
      "outputs": [
        {
          "output_type": "stream",
          "text": [
            "Overwriting test.cpp\n"
          ],
          "name": "stdout"
        }
      ]
    },
    {
      "cell_type": "code",
      "metadata": {
        "id": "yW2gFdixFY3I",
        "colab_type": "code",
        "colab": {
          "base_uri": "https://localhost:8080/",
          "height": 255
        },
        "outputId": "f1bd063f-2410-4dbf-e45f-516628900aa0"
      },
      "source": [
        "%%time\n",
        "%%script bash\n",
        "g++ test.cpp -o test\n",
        "ls -laX\n",
        "./test"
      ],
      "execution_count": null,
      "outputs": [
        {
          "output_type": "stream",
          "text": [
            "total 36\n",
            "drwxr-xr-x 1 root root  4096 Sep 16 16:29 sample_data\n",
            "-rwxr-xr-x 1 root root 15696 Sep 21 00:42 test\n",
            "drwxr-xr-x 1 root root  4096 Sep 21 00:42 .\n",
            "drwxr-xr-x 1 root root  4096 Sep 20 15:49 ..\n",
            "drwxr-xr-x 1 root root  4096 Sep 16 16:29 .config\n",
            "-rw-r--r-- 1 root root  1791 Sep 21 00:41 test.cpp\n",
            "\n",
            "\n",
            "Promedio de ganancias de Bob en un fin de semana: -12979\n",
            "\n",
            "\n",
            "CPU times: user 7.51 ms, sys: 8 ms, total: 15.5 ms\n",
            "Wall time: 1min 1s\n"
          ],
          "name": "stdout"
        }
      ]
    },
    {
      "cell_type": "code",
      "metadata": {
        "id": "iR0ug7CMfv2x",
        "colab_type": "code",
        "colab": {
          "base_uri": "https://localhost:8080/",
          "height": 282
        },
        "outputId": "df137ae0-9201-4ff4-d268-a6057a42e53d"
      },
      "source": [
        "# Con baraja de poker, hot deck de 12 cartas\n",
        "ganancias = 0\n",
        "n_cartas_ganadas_lista = []\n",
        "for i in range(numero_experimentos):\n",
        "  for j in range(600): #juegá 600 juegos en el fin de semana\n",
        "    if r.random() <= 0.1:\n",
        "      #HOT DECK - Juego con [7,7,5] iniciales y baraja caliente con 10 cartas\n",
        "      n_ganadas = 0\n",
        "      n_cartas_ganadas = 0\n",
        "      deck = [1,1,1,1,2,2,2,2,10,10,10,10]\n",
        "      sum_cartas = 19\n",
        "      n_cartas = 0\n",
        "      while sum_cartas < 21:\n",
        "        carta = r.choice(deck)\n",
        "        sum_cartas += carta\n",
        "        n_cartas += 1\n",
        "        deck.remove(carta)\n",
        "      if sum_cartas == 21:\n",
        "        n_ganadas += 1\n",
        "        n_cartas_ganadas += n_cartas\n",
        "        n_cartas_ganadas_lista.append(n_cartas)\n",
        "        ganancias += 1000\n",
        "      else:\n",
        "        ganancias -= 1000\n",
        "    else:\n",
        "      #COLD DECK - Juego con 0 cartas iniciales y baraja completa\n",
        "      deck = list(baraja_poker_2)\n",
        "      n_ganadas = 0\n",
        "      n_cartas_ganadas = 0\n",
        "      sum_cartas = 0\n",
        "      n_cartas = 0\n",
        "      while sum_cartas < 21:\n",
        "        carta = r.choice(deck)\n",
        "        sum_cartas += carta\n",
        "        n_cartas += 1\n",
        "        deck.remove(carta)\n",
        "      if sum_cartas == 21:\n",
        "        n_ganadas += 1\n",
        "        n_cartas_ganadas += n_cartas\n",
        "        n_cartas_ganadas_lista.append(n_cartas)\n",
        "        ganancias += 10\n",
        "      else:\n",
        "        ganancias -= 10\n",
        "print(\"Ganancias en promedio de los fines de semana, baraja española y hot deck 12 cartas:\", ganancias/numero_experimentos)\n",
        "plt.hist(n_cartas_ganadas_lista, bins=15);"
      ],
      "execution_count": null,
      "outputs": [
        {
          "output_type": "stream",
          "text": [
            "Ganancias en promedio de los fines de semana, baraja española y hot deck 12 cartas: -12889.513\n"
          ],
          "name": "stdout"
        },
        {
          "output_type": "display_data",
          "data": {
            "image/png": "[encoded data removed]",
            "text/plain": [
              "<Figure size 432x288 with 1 Axes>"
            ]
          },
          "metadata": {
            "tags": [],
            "needs_background": "light"
          }
        }
      ]
    },
    {
      "cell_type": "code",
      "metadata": {
        "id": "UNC5WfKismnW",
        "colab_type": "code",
        "colab": {}
      },
      "source": [
        ""
      ],
      "execution_count": null,
      "outputs": []
    }
  ]
}