{
  "nbformat": 4,
  "nbformat_minor": 0,
  "metadata": {
    "colab": {
      "name": "lab4.ipynb",
      "provenance": [],
      "collapsed_sections": [
        "ssT2WKWMEwWT",
        "gY3OWCx_Fj8n",
        "pCjypSRzZVgl",
        "WNo7-33vOjFV",
        "B6XUk42Lr-Ee",
        "Sl8yNNZBhtS1",
        "Cx-F8aWZjKdl",
        "j5pR8r7ljzBp",
        "rkz5K67Vj7d-"
      ]
    },
    "kernelspec": {
      "name": "python3",
      "display_name": "Python 3"
    }
  },
  "cells": [
    {
      "cell_type": "markdown",
      "metadata": {
        "id": "ZfdlCm9NEYHa"
      },
      "source": [
        "# LABORATORIO 4\n",
        "### Monte Carlo – 21 Blackjack – Groups"
      ]
    },
    {
      "cell_type": "code",
      "metadata": {
        "id": "2_HxEktubL5J"
      },
      "source": [
        "import random as r\n",
        "import numpy as np\n",
        "import matplotlib.pyplot as plt"
      ],
      "execution_count": null,
      "outputs": []
    },
    {
      "cell_type": "code",
      "metadata": {
        "id": "b32oHI64dF2I"
      },
      "source": [
        "baraja_española = (1,2,3,4,5,6,7,10,11,12,1,2,3,4,5,6,7,8,9,10,11,12,1,2,3,4,5,6,7,8,9,10,11,12,1,2,3,4,5,6,7,8,9,10,11,12)\n",
        "baraja_poker = (1,2,3,4,5,6,7,8,9,10,11,12,13,1,2,3,4,5,6,7,8,9,10,11,12,13,1,2,3,4,5,6,7,8,9,10,11,12,13,1,2,3,4,5,6,7,8,9,10,11,12,13)\n",
        "\n",
        "baraja_española_2 = (1,2,3,4,5,6,7,8,9,10,10,10,1,2,3,4,5,6,7,8,9,10,10,10,1,2,3,4,5,6,7,8,9,10,10,10,1,2,3,4,5,6,7,8,9,10,10,10)\n",
        "baraja_poker_2 = (1,2,3,4,5,6,7,8,9,10,10,10,10,1,2,3,4,5,6,7,8,9,10,10,10,10,1,2,3,4,5,6,7,8,9,10,10,10,10,1,2,3,4,5,6,7,8,9,10,10,10,10)\n",
        "\n",
        "numero_experimentos = 10000000"
      ],
      "execution_count": null,
      "outputs": []
    },
    {
      "cell_type": "markdown",
      "metadata": {
        "id": "ssT2WKWMEwWT"
      },
      "source": [
        "## PUNTO 1"
      ]
    },
    {
      "cell_type": "code",
      "metadata": {
        "id": "tOkYD-W8EyLw",
        "outputId": "b04d8dfd-0444-416c-c2a8-278e6ec513fb",
        "colab": {
          "base_uri": "https://localhost:8080/",
          "height": 282
        }
      },
      "source": [
        "n_ganadas = 0\n",
        "n_cartas_ganadas = 0\n",
        "n_cartas_ganadas_lista = []\n",
        "\n",
        "for i in range(numero_experimentos):\n",
        "    deck = list(baraja_española)\n",
        "    sum_cartas = 0\n",
        "    n_cartas = 0\n",
        "    while sum_cartas < 21:\n",
        "        carta = r.choice(deck)\n",
        "        sum_cartas += carta\n",
        "        n_cartas += 1\n",
        "        deck.remove(carta)\n",
        "    if sum_cartas == 21:\n",
        "        n_ganadas += 1\n",
        "        n_cartas_ganadas += n_cartas\n",
        "        n_cartas_ganadas_lista.append(n_cartas)\n",
        "print(\"Probabilidad de Ganar con Baraja Española:\", n_ganadas/numero_experimentos, \"Promedio de cartas para ganar:\", n_cartas_ganadas/n_ganadas)\n",
        "# Graficar\n",
        "arreglo_ncg = np.array(n_cartas_ganadas_lista)\n",
        "plt.hist(arreglo_ncg);"
      ],
      "execution_count": null,
      "outputs": [
        {
          "output_type": "stream",
          "text": [
            "Probabilidad de Ganar con Baraja Española: 0.1587337 Promedio de cartas para ganar: 3.4780667243313803\n"
          ],
          "name": "stdout"
        },
        {
          "output_type": "display_data",
          "data": {
            "image/png": "[encoded data removed]",
            "text/plain": [
              "<Figure size 432x288 with 1 Axes>"
            ]
          },
          "metadata": {
            "tags": [],
            "needs_background": "light"
          }
        }
      ]
    },
    {
      "cell_type": "code",
      "metadata": {
        "id": "Na7vGi7-E2-u",
        "outputId": "9234935d-c661-4cb4-ca89-22ab6dfe65c3",
        "colab": {
          "base_uri": "https://localhost:8080/",
          "height": 282
        }
      },
      "source": [
        "n_ganadas = 0\n",
        "n_cartas_ganadas = 0\n",
        "n_cartas_ganadas_lista = []\n",
        "\n",
        "for i in range(numero_experimentos):\n",
        "    deck = list(baraja_poker)\n",
        "    sum_cartas = 0\n",
        "    n_cartas = 0\n",
        "    while sum_cartas < 21:\n",
        "        carta = r.choice(deck)\n",
        "        sum_cartas += carta\n",
        "        n_cartas += 1\n",
        "        deck.remove(carta)\n",
        "    if sum_cartas == 21:\n",
        "        n_ganadas += 1\n",
        "        n_cartas_ganadas += n_cartas\n",
        "        n_cartas_ganadas_lista.append(n_cartas)\n",
        "print(\"Probabilidad de Ganar con Baraja de Poker:\", n_ganadas/numero_experimentos, \"Promedio de cartas para ganar:\", n_cartas_ganadas/n_ganadas)\n",
        "# Graficar\n",
        "arreglo_ncg = np.array(n_cartas_ganadas_lista)\n",
        "plt.hist(arreglo_ncg);"
      ],
      "execution_count": null,
      "outputs": [
        {
          "output_type": "stream",
          "text": [
            "Probabilidad de Ganar con Baraja de Poker: 0.1447817 Promedio de cartas para ganar: 3.2160487133387714\n"
          ],
          "name": "stdout"
        },
        {
          "output_type": "display_data",
          "data": {
            "image/png": "[encoded data removed]",
            "text/plain": [
              "<Figure size 432x288 with 1 Axes>"
            ]
          },
          "metadata": {
            "tags": [],
            "needs_background": "light"
          }
        }
      ]
    },
    {
      "cell_type": "markdown",
      "metadata": {
        "id": "gY3OWCx_Fj8n"
      },
      "source": [
        "## PUNTO 2"
      ]
    },
    {
      "cell_type": "code",
      "metadata": {
        "id": "2V8IpXABFlV8",
        "outputId": "1ff21555-ccda-44c6-adbb-d7ab82bb89f4",
        "colab": {
          "base_uri": "https://localhost:8080/",
          "height": 282
        }
      },
      "source": [
        "n_ganadas = 0\n",
        "n_cartas_ganadas = 0\n",
        "n_cartas_ganadas_lista = []\n",
        "\n",
        "for i in range(numero_experimentos):\n",
        "    deck = list(baraja_española_2)\n",
        "    sum_cartas = 0\n",
        "    n_cartas = 0\n",
        "    while sum_cartas < 21:\n",
        "        carta = r.choice(deck)\n",
        "        sum_cartas += carta\n",
        "        n_cartas += 1\n",
        "        deck.remove(carta)\n",
        "    if sum_cartas == 21:\n",
        "        n_ganadas += 1\n",
        "        n_cartas_ganadas += n_cartas\n",
        "        n_cartas_ganadas_lista.append(n_cartas)\n",
        "print(\"Probabilidad de Ganar con Baraja Española:\", n_ganadas/numero_experimentos, \"Promedio de cartas para ganar:\", n_cartas_ganadas/n_ganadas)\n",
        "# Graficar\n",
        "arreglo_ncg = np.array(n_cartas_ganadas_lista)\n",
        "plt.hist(arreglo_ncg);"
      ],
      "execution_count": null,
      "outputs": [
        {
          "output_type": "stream",
          "text": [
            "Probabilidad de Ganar con Baraja Española: 0.1496611 Promedio de cartas para ganar: 3.69971088011514\n"
          ],
          "name": "stdout"
        },
        {
          "output_type": "display_data",
          "data": {
            "image/png": "[encoded data removed]",
            "text/plain": [
              "<Figure size 432x288 with 1 Axes>"
            ]
          },
          "metadata": {
            "tags": [],
            "needs_background": "light"
          }
        }
      ]
    },
    {
      "cell_type": "code",
      "metadata": {
        "id": "LKW4MTBeGUT2",
        "outputId": "a321c0ab-aa1e-4f86-85a6-9a02822112ba",
        "colab": {
          "base_uri": "https://localhost:8080/",
          "height": 282
        }
      },
      "source": [
        "n_ganadas = 0\n",
        "n_cartas_ganadas = 0\n",
        "n_cartas_ganadas_lista = []\n",
        "\n",
        "for i in range(numero_experimentos):\n",
        "    deck = list(baraja_poker_2)\n",
        "    sum_cartas = 0\n",
        "    n_cartas = 0\n",
        "    while sum_cartas < 21:\n",
        "        carta = r.choice(deck)\n",
        "        sum_cartas += carta\n",
        "        n_cartas += 1\n",
        "        deck.remove(carta)\n",
        "    if sum_cartas == 21:\n",
        "        n_ganadas += 1\n",
        "        n_cartas_ganadas += n_cartas\n",
        "        n_cartas_ganadas_lista.append(n_cartas)\n",
        "print(\"Probabilidad de Ganar con Baraja Espaniola:\", n_ganadas/numero_experimentos, \"Promedio de cartas para ganar:\", n_cartas_ganadas/n_ganadas)\n",
        "# Graficar\n",
        "arreglo_ncg = np.array(n_cartas_ganadas_lista)\n",
        "plt.hist(arreglo_ncg);"
      ],
      "execution_count": null,
      "outputs": [
        {
          "output_type": "stream",
          "text": [
            "Probabilidad de Ganar con Baraja Espaniola: 0.1401449 Promedio de cartas para ganar: 3.577156928293502\n"
          ],
          "name": "stdout"
        },
        {
          "output_type": "display_data",
          "data": {
            "image/png": "[encoded data removed]",
            "text/plain": [
              "<Figure size 432x288 with 1 Axes>"
            ]
          },
          "metadata": {
            "tags": [],
            "needs_background": "light"
          }
        }
      ]
    },
    {
      "cell_type": "markdown",
      "metadata": {
        "id": "pCjypSRzZVgl"
      },
      "source": [
        "## PUNTO 3"
      ]
    },
    {
      "cell_type": "code",
      "metadata": {
        "id": "xKlqAkYvGdo9",
        "outputId": "3a5c3e3f-8d5a-41cb-d2b3-04aa48cd1f44",
        "colab": {
          "base_uri": "https://localhost:8080/",
          "height": 282
        }
      },
      "source": [
        "n_ganadas = 0\n",
        "n_cartas_ganadas = 0\n",
        "n_cartas_ganadas_lista = []\n",
        "\n",
        "for i in range(numero_experimentos):\n",
        "    deck = [1,2,3,4,5,6,7,8,9,10,10,10,1,2,3,4,5,6,7,8,9,10,10,10]\n",
        "    sum_cartas = 19\n",
        "    n_cartas = 3\n",
        "    while sum_cartas < 21:\n",
        "        carta = r.choice(deck)\n",
        "        sum_cartas += carta\n",
        "        n_cartas += 1\n",
        "        deck.remove(carta)\n",
        "    if sum_cartas == 21:\n",
        "        n_ganadas += 1\n",
        "        n_cartas_ganadas += n_cartas\n",
        "        n_cartas_ganadas_lista.append(n_cartas)\n",
        "print(\"Probabilidad de Ganar con Baraja Espaniola:\", n_ganadas/numero_experimentos, \"Promedio de cartas para ganar:\", n_cartas_ganadas/n_ganadas)\n",
        "# Graficar\n",
        "arreglo_ncg = np.array(n_cartas_ganadas_lista)\n",
        "plt.hist(arreglo_ncg, bins=3);"
      ],
      "execution_count": null,
      "outputs": [
        {
          "output_type": "stream",
          "text": [
            "Probabilidad de Ganar con Baraja Espaniola: 0.0870837 Promedio de cartas para ganar: 4.0419504453761155\n"
          ],
          "name": "stdout"
        },
        {
          "output_type": "display_data",
          "data": {
            "image/png": "[encoded data removed]",
            "text/plain": [
              "<Figure size 432x288 with 1 Axes>"
            ]
          },
          "metadata": {
            "tags": [],
            "needs_background": "light"
          }
        }
      ]
    },
    {
      "cell_type": "code",
      "metadata": {
        "id": "Mn71gZt9Nfjf",
        "outputId": "f5a9397d-c3b1-45e5-9dcd-bea450b01c59",
        "colab": {
          "base_uri": "https://localhost:8080/",
          "height": 284
        }
      },
      "source": [
        "n_ganadas = 0\n",
        "n_cartas_ganadas = 0\n",
        "n_cartas_ganadas_lista = []\n",
        "\n",
        "for i in range(numero_experimentos):\n",
        "    deck = [1,2,3,4,5,6,7,8,9,10,10,10,1,2,3,4,5,6,7,8,9,10,10,10,6,8]\n",
        "    sum_cartas = 19\n",
        "    n_cartas = 3\n",
        "    while sum_cartas < 21:\n",
        "        carta = r.choice(deck)\n",
        "        sum_cartas += carta\n",
        "        n_cartas += 1\n",
        "        deck.remove(carta)\n",
        "    if sum_cartas == 21:\n",
        "        n_ganadas += 1\n",
        "        n_cartas_ganadas += n_cartas\n",
        "        n_cartas_ganadas_lista.append(n_cartas)\n",
        "print(\"Probabilidad de Ganar con Baraja de Poker:\", n_ganadas/numero_experimentos, \"Promedio de cartas para ganar:\", n_cartas_ganadas/n_ganadas)\n",
        "# Graficar\n",
        "arreglo_ncg = np.array(n_cartas_ganadas_lista)\n",
        "plt.hist(arreglo_ncg, bins=3);"
      ],
      "execution_count": null,
      "outputs": [
        {
          "output_type": "stream",
          "text": [
            "Probabilidad de Ganar con Baraja de Poker: 0.0799967 Promedio de cartas para ganar: 4.0384990880873834\n"
          ],
          "name": "stdout"
        },
        {
          "output_type": "display_data",
          "data": {
            "image/png": "[encoded data removed]",
            "text/plain": [
              "<Figure size 432x288 with 1 Axes>"
            ]
          },
          "metadata": {
            "tags": [],
            "needs_background": "light"
          }
        }
      ]
    },
    {
      "cell_type": "markdown",
      "metadata": {
        "id": "WNo7-33vOjFV"
      },
      "source": [
        "## PUNTO 4"
      ]
    },
    {
      "cell_type": "markdown",
      "metadata": {
        "id": "4dE5rjGnPIW6"
      },
      "source": [
        "Las barajas calientes teniendo [7,7,5] son las barajas que tengan más 1's y 2's. Contrariamente, las barajas frias seran las que tengan menos 1's y 2's.\n",
        "\n",
        "\n",
        "*   12 Cartas:\n",
        " *    Baraja Caliente: [1,1,1,1,2,2,2,2,x,x,x,x] (donde x es cualquier numero).\n",
        " -> Probabilidad de ganar: 1/3 + ((1/3)*(3/11)) = 1/3 + 1/11 ≈ 0.424242424\n",
        "\n",
        " *    Baraja Fria: [x,x,x,x,x,x,x,x,x,x,x,x] (donde x es cualquier numero excepto 1's y 2's).\n",
        " -> Probabilidad de ganar: 0\n",
        "\n",
        "*   10 Cartas:\n",
        " *    Baraja Caliente: [1,1,1,1,2,2,2,2,x,x] (donde x es cualquier numero).\n",
        " -> Probabilidad de ganar: 2/5 + ((2/5)*(1/3)) = 2/5 + 2/15 ≈ 0.533333333\n",
        "\n",
        " *    Baraja Fria: [x,x,x,x,x,x,x,x,x,x] (donde x es cualquier numero excepto 1's y 2's). \n",
        " -> Probabilidad de ganar: 0"
      ]
    },
    {
      "cell_type": "code",
      "metadata": {
        "id": "JK42v_XHOH3t",
        "outputId": "c8a274b2-fa9f-4a4c-d39d-7e7afcf79475",
        "colab": {
          "base_uri": "https://localhost:8080/",
          "height": 293
        }
      },
      "source": [
        "# 12 CARTAS HOT DECK\n",
        "n_ganadas = 0\n",
        "n_cartas_ganadas = 0\n",
        "n_cartas_ganadas_lista = []\n",
        "\n",
        "for i in range(numero_experimentos):\n",
        "    deck = [1,1,1,1,2,2,2,2,10,10,10,10]\n",
        "    sum_cartas = 19\n",
        "    n_cartas = 3\n",
        "    while sum_cartas < 21:\n",
        "        carta = r.choice(deck)\n",
        "        sum_cartas += carta\n",
        "        n_cartas += 1\n",
        "        deck.remove(carta)\n",
        "    if sum_cartas == 21:\n",
        "        n_ganadas += 1\n",
        "        n_cartas_ganadas += n_cartas\n",
        "        n_cartas_ganadas_lista.append(n_cartas)\n",
        "print(\"Probabilidad de Ganar con Hot Deck de 12 Cartas:\", n_ganadas/numero_experimentos, \"Promedio de cartas para ganar:\", n_cartas_ganadas/n_ganadas)\n",
        "# Graficar\n",
        "arreglo_ncg = np.array(n_cartas_ganadas_lista)\n",
        "plt.hist(arreglo_ncg, bins=2, align='mid');"
      ],
      "execution_count": null,
      "outputs": [
        {
          "output_type": "stream",
          "text": [
            "Probabilidad de Ganar con Hot Deck de 12 Cartas: 0.424347 Promedio de cartas para ganar: 4.2136777212988425\n"
          ],
          "name": "stdout"
        },
        {
          "output_type": "display_data",
          "data": {
            "image/png": "[encoded data removed]",
            "text/plain": [
              "<Figure size 432x288 with 1 Axes>"
            ]
          },
          "metadata": {
            "tags": [],
            "needs_background": "light"
          }
        }
      ]
    },
    {
      "cell_type": "code",
      "metadata": {
        "id": "vHa0zyzdS9Ir",
        "outputId": "ce8fd799-762b-444a-afe2-552db7529704",
        "colab": {
          "base_uri": "https://localhost:8080/",
          "height": 282
        }
      },
      "source": [
        "# 12 CARTAS COLD DECK\n",
        "n_ganadas = 0\n",
        "n_cartas_ganadas = 0\n",
        "n_cartas_ganadas_lista = []\n",
        "\n",
        "for i in range(numero_experimentos):\n",
        "    deck = [8,8,8,8,9,9,9,9,10,10,10,10]\n",
        "    sum_cartas = 19\n",
        "    n_cartas = 3\n",
        "    while sum_cartas < 21:\n",
        "        carta = r.choice(deck)\n",
        "        sum_cartas += carta\n",
        "        n_cartas += 1\n",
        "        deck.remove(carta)\n",
        "    if sum_cartas == 21:\n",
        "        n_ganadas += 1\n",
        "        n_cartas_ganadas += n_cartas\n",
        "        n_cartas_ganadas_lista.append(n_cartas)\n",
        "print(\"Probabilidad de Ganar con Cold Deck de 12 Cartas:\", n_ganadas/numero_experimentos, \"Promedio de cartas para ganar:\", n_cartas_ganadas)\n",
        "# Graficar\n",
        "arreglo_ncg = np.array(n_cartas_ganadas_lista)\n",
        "plt.hist(arreglo_ncg, bins=2);"
      ],
      "execution_count": null,
      "outputs": [
        {
          "output_type": "stream",
          "text": [
            "Probabilidad de Ganar con Cold Deck de 12 Cartas: 0.0 Promedio de cartas para ganar: 0\n"
          ],
          "name": "stdout"
        },
        {
          "output_type": "display_data",
          "data": {
            "image/png": "[encoded data removed]",
            "text/plain": [
              "<Figure size 432x288 with 1 Axes>"
            ]
          },
          "metadata": {
            "tags": [],
            "needs_background": "light"
          }
        }
      ]
    },
    {
      "cell_type": "code",
      "metadata": {
        "id": "mVIW1qhlUN4O",
        "outputId": "d13b679c-b03c-4c45-db55-a3e5653de049",
        "colab": {
          "base_uri": "https://localhost:8080/",
          "height": 293
        }
      },
      "source": [
        "# 10 CARTAS HOT DECK\n",
        "n_ganadas = 0\n",
        "n_cartas_ganadas = 0\n",
        "n_cartas_ganadas_lista = []\n",
        "\n",
        "for i in range(numero_experimentos):\n",
        "    deck = [1,1,1,1,2,2,2,2,10,10]\n",
        "    sum_cartas = 19\n",
        "    n_cartas = 3\n",
        "    while sum_cartas < 21:\n",
        "        carta = r.choice(deck)\n",
        "        sum_cartas += carta\n",
        "        n_cartas += 1\n",
        "        deck.remove(carta)\n",
        "    if sum_cartas == 21:\n",
        "        n_ganadas += 1\n",
        "        n_cartas_ganadas += n_cartas\n",
        "        n_cartas_ganadas_lista.append(n_cartas)\n",
        "print(\"Probabilidad de Ganar con Hot Deck de 10 Cartas:\", n_ganadas/numero_experimentos, \"Promedio de cartas para ganar:\", n_cartas_ganadas/n_ganadas)\n",
        "# Graficar\n",
        "arreglo_ncg = np.array(n_cartas_ganadas_lista)\n",
        "plt.hist(arreglo_ncg, bins=2);"
      ],
      "execution_count": null,
      "outputs": [
        {
          "output_type": "stream",
          "text": [
            "Probabilidad de Ganar con Hot Deck de 10 Cartas: 0.5332169 Promedio de cartas para ganar: 4.250042712449662\n"
          ],
          "name": "stdout"
        },
        {
          "output_type": "display_data",
          "data": {
            "image/png": "[encoded data removed]",
            "text/plain": [
              "<Figure size 432x288 with 1 Axes>"
            ]
          },
          "metadata": {
            "tags": [],
            "needs_background": "light"
          }
        }
      ]
    },
    {
      "cell_type": "code",
      "metadata": {
        "id": "772rTvCJUekj",
        "outputId": "5db26121-bfeb-4e7d-a813-478a9c23ec5d",
        "colab": {
          "base_uri": "https://localhost:8080/",
          "height": 282
        }
      },
      "source": [
        "# 10 CARTAS COLD DECK\n",
        "n_ganadas = 0\n",
        "n_cartas_ganadas = 0\n",
        "n_cartas_ganadas_lista = []\n",
        "\n",
        "for i in range(numero_experimentos):\n",
        "    deck = [8,8,8,8,9,9,9,9,10,10]\n",
        "    sum_cartas = 19\n",
        "    n_cartas = 3\n",
        "    while sum_cartas < 21:\n",
        "        carta = r.choice(deck)\n",
        "        sum_cartas += carta\n",
        "        n_cartas += 1\n",
        "        deck.remove(carta)\n",
        "    if sum_cartas == 21:\n",
        "        n_ganadas += 1\n",
        "        n_cartas_ganadas += n_cartas\n",
        "        n_cartas_ganadas_lista.append(n_cartas)\n",
        "print(\"Probabilidad de Ganar con Cold Deck de 10 Cartas:\", n_ganadas/numero_experimentos, \"Promedio de cartas para ganar:\", n_cartas_ganadas)\n",
        "# Graficar\n",
        "arreglo_ncg = np.array(n_cartas_ganadas_lista)\n",
        "plt.hist(arreglo_ncg, bins=2);"
      ],
      "execution_count": null,
      "outputs": [
        {
          "output_type": "stream",
          "text": [
            "Probabilidad de Ganar con Cold Deck de 10 Cartas: 0.0 Promedio de cartas para ganar: 0\n"
          ],
          "name": "stdout"
        },
        {
          "output_type": "display_data",
          "data": {
            "image/png": "[encoded data removed]",
            "text/plain": [
              "<Figure size 432x288 with 1 Axes>"
            ]
          },
          "metadata": {
            "tags": [],
            "needs_background": "light"
          }
        }
      ]
    },
    {
      "cell_type": "markdown",
      "metadata": {
        "id": "B6XUk42Lr-Ee"
      },
      "source": [
        "## PUNTO 5\n",
        "\n",
        "1 Millon de simulaciones con C++"
      ]
    },
    {
      "cell_type": "markdown",
      "metadata": {
        "id": "Sl8yNNZBhtS1"
      },
      "source": [
        "### 10 CARD HOT DECK - SPANISH DECK"
      ]
    },
    {
      "cell_type": "code",
      "metadata": {
        "id": "rIeQVorTsAIi",
        "outputId": "c64cc1f0-3854-4a91-af6b-9970e141d329",
        "colab": {
          "base_uri": "https://localhost:8080/",
          "height": 34
        }
      },
      "source": [
        "%%writefile test.cpp\n",
        "#include <bits/stdc++.h>\n",
        "#include <cstdlib>\n",
        "#include <ctime>\n",
        "\n",
        "using namespace std;\n",
        "\n",
        "//Con baraja española, hot deck de 10 cartas\n",
        "int main(int Argc,char* Args[]){\n",
        "  int numero_simulaciones = 1000000;\n",
        "  srand((unsigned) time(0));\n",
        "  long long ganancias = 0;\n",
        "  for (int i = 0; i < numero_simulaciones; i++){\n",
        "      for (int j = 0; j < 600; j++){\n",
        "          int is_hotdeck = rand()%10;\n",
        "          if (!is_hotdeck){\n",
        "              int deck[10] = {1,1,1,1,2,2,2,2,10,10};\n",
        "              int deck_size = 10;\n",
        "              int sum_cartas = 19;\n",
        "              while (sum_cartas < 21){\n",
        "                  int pos_carta = rand() % deck_size;\n",
        "                  sum_cartas += deck[pos_carta];\n",
        "                  deck[pos_carta] = deck[deck_size-1];\n",
        "                  deck[deck_size-1] = 0;\n",
        "                  deck_size--;\n",
        "              }\n",
        "              if (sum_cartas == 21){\n",
        "                  ganancias += 1000;\n",
        "              } else {\n",
        "                  ganancias -= 1000;\n",
        "              }\n",
        "          } else {\n",
        "              int deck[48] = {1,2,3,4,5,6,7,8,9,10,10,10,1,2,3,4,5,6,7,8,9,10,10,10,1,2,3,4,5,6,7,8,9,10,10,10,1,2,3,4,5,6,7,8,9,10,10,10};\n",
        "              int deck_size = 48;\n",
        "              int sum_cartas = 0;\n",
        "              while (sum_cartas < 21){\n",
        "                  int pos_carta = rand() % deck_size;\n",
        "                  sum_cartas += deck[pos_carta];\n",
        "                  deck[pos_carta] = deck[deck_size-1];\n",
        "                  deck[deck_size-1] = 0;\n",
        "                  deck_size--;\n",
        "              }\n",
        "              if (sum_cartas == 21){\n",
        "                  ganancias += 10;\n",
        "              } else {\n",
        "                  ganancias -= 10;\n",
        "              }\n",
        "          }\n",
        "      }\n",
        "  }\n",
        "  cout << \"\\n\\n - Promedio de ganancias de Bob en un fin de semana: \" << ganancias*1.0/numero_simulaciones << \"\\n\\n\\n\";\n",
        "  return 0;\n",
        "}"
      ],
      "execution_count": null,
      "outputs": [
        {
          "output_type": "stream",
          "text": [
            "Overwriting test.cpp\n"
          ],
          "name": "stdout"
        }
      ]
    },
    {
      "cell_type": "code",
      "metadata": {
        "id": "Z16GvyGz1baA",
        "outputId": "b2af8d7a-c550-4361-dc47-eb03048819b5",
        "colab": {
          "base_uri": "https://localhost:8080/",
          "height": 255
        }
      },
      "source": [
        "%%time\n",
        "%%script bash\n",
        "g++ test.cpp -o test\n",
        "ls -laX\n",
        "./test"
      ],
      "execution_count": null,
      "outputs": [
        {
          "output_type": "stream",
          "text": [
            "total 36\n",
            "drwxr-xr-x 1 root root  4096 Sep 16 16:29 sample_data\n",
            "-rwxr-xr-x 1 root root 15696 Sep 25 23:16 test\n",
            "drwxr-xr-x 1 root root  4096 Sep 25 23:16 .\n",
            "drwxr-xr-x 1 root root  4096 Sep 25 21:42 ..\n",
            "drwxr-xr-x 1 root root  4096 Sep 18 16:15 .config\n",
            "-rw-r--r-- 1 root root  1781 Sep 25 23:16 test.cpp\n",
            "\n",
            "\n",
            " - Promedio de ganancias de Bob en un fin de semana: 223.816\n",
            "\n",
            "\n",
            "CPU times: user 6.56 ms, sys: 12 ms, total: 18.6 ms\n",
            "Wall time: 55.2 s\n"
          ],
          "name": "stdout"
        }
      ]
    },
    {
      "cell_type": "markdown",
      "metadata": {
        "id": "l3Swgv9BiiQm"
      },
      "source": [
        "Gráfica"
      ]
    },
    {
      "cell_type": "code",
      "metadata": {
        "id": "TURmdlRnjdUM",
        "outputId": "994c60ef-17c4-464e-b319-5a60e496038d",
        "colab": {
          "base_uri": "https://localhost:8080/",
          "height": 282
        }
      },
      "source": [
        "# Con baraja española, hot deck de 10 cartas\n",
        "ganancias = 0\n",
        "n_cartas_ganadas_lista = []\n",
        "for i in range(numero_experimentos):\n",
        "  for j in range(600): #juegá 600 juegos en el fin de semana\n",
        "    if r.random() <= 0.1:\n",
        "      #HOT DECK - Juego con [7,7,5] iniciales y baraja caliente con 10 cartas\n",
        "      n_ganadas = 0\n",
        "      n_cartas_ganadas = 0\n",
        "      deck = [1,1,1,1,2,2,2,2,10,10]\n",
        "      sum_cartas = 19\n",
        "      n_cartas = 0\n",
        "      while sum_cartas < 21:\n",
        "        carta = r.choice(deck)\n",
        "        sum_cartas += carta\n",
        "        n_cartas += 1\n",
        "        deck.remove(carta)\n",
        "      if sum_cartas == 21:\n",
        "        n_ganadas += 1\n",
        "        n_cartas_ganadas += n_cartas\n",
        "        n_cartas_ganadas_lista.append(n_cartas)\n",
        "        ganancias += 1000\n",
        "      else:\n",
        "        ganancias -= 1000\n",
        "    else:\n",
        "      #COLD DECK - Juego con 0 cartas iniciales y baraja completa\n",
        "      deck = list(baraja_española_2)\n",
        "      n_ganadas = 0\n",
        "      n_cartas_ganadas = 0\n",
        "      sum_cartas = 0\n",
        "      n_cartas = 0\n",
        "      while sum_cartas < 21:\n",
        "        carta = r.choice(deck)\n",
        "        sum_cartas += carta\n",
        "        n_cartas += 1\n",
        "        deck.remove(carta)\n",
        "      if sum_cartas == 21:\n",
        "        n_ganadas += 1\n",
        "        n_cartas_ganadas += n_cartas\n",
        "        n_cartas_ganadas_lista.append(n_cartas)\n",
        "        ganancias += 10\n",
        "      else:\n",
        "        ganancias -= 10\n",
        "print(\"Ganancias en promedio de los fines de semana, baraja española y hot deck 10 cartas:\", ganancias/numero_experimentos)\n",
        "plt.hist(n_cartas_ganadas_lista,bins=15);"
      ],
      "execution_count": null,
      "outputs": [
        {
          "output_type": "stream",
          "text": [
            "Ganancias en promedio de los fines de semana, baraja española y hot deck 10 cartas: 228.36\n"
          ],
          "name": "stdout"
        },
        {
          "output_type": "display_data",
          "data": {
            "image/png": "[encoded data removed]",
            "text/plain": [
              "<Figure size 432x288 with 1 Axes>"
            ]
          },
          "metadata": {
            "tags": [],
            "needs_background": "light"
          }
        }
      ]
    },
    {
      "cell_type": "markdown",
      "metadata": {
        "id": "Cx-F8aWZjKdl"
      },
      "source": [
        "### 12 CARD HOT DECK - SPANISH DECK"
      ]
    },
    {
      "cell_type": "code",
      "metadata": {
        "id": "wJMYS-pXxZLd",
        "outputId": "ee530a52-e3b1-44e7-9a25-a157992016dd",
        "colab": {
          "base_uri": "https://localhost:8080/",
          "height": 34
        }
      },
      "source": [
        "%%writefile test.cpp\n",
        "#include <bits/stdc++.h>\n",
        "#include <cstdlib>\n",
        "#include <ctime>\n",
        "\n",
        "using namespace std;\n",
        "\n",
        "//Con baraja española, hot deck de 12 cartas\n",
        "int main(int Argc,char* Args[]){\n",
        "  int numero_simulaciones = 1000000;\n",
        "  srand((unsigned) time(0));\n",
        "  long long ganancias = 0;\n",
        "  for (int i = 0; i < numero_simulaciones; i++){\n",
        "      for (int j = 0; j < 600; j++){\n",
        "          int is_hotdeck = rand()%10;\n",
        "          if (!is_hotdeck){\n",
        "              int deck[12] = {1,1,1,1,2,2,2,2,10,10,10,10};\n",
        "              int deck_size = 12;\n",
        "              int sum_cartas = 19;\n",
        "              while (sum_cartas < 21){\n",
        "                  int pos_carta = rand() % deck_size;\n",
        "                  sum_cartas += deck[pos_carta];\n",
        "                  deck[pos_carta] = deck[deck_size-1];\n",
        "                  deck[deck_size-1] = 0;\n",
        "                  deck_size--;\n",
        "              }\n",
        "              if (sum_cartas == 21){\n",
        "                  ganancias += 1000;\n",
        "              } else {\n",
        "                  ganancias -= 1000;\n",
        "              }\n",
        "          } else {\n",
        "              int deck[48] = {1,2,3,4,5,6,7,8,9,10,10,10,1,2,3,4,5,6,7,8,9,10,10,10,1,2,3,4,5,6,7,8,9,10,10,10,1,2,3,4,5,6,7,8,9,10,10,10};\n",
        "              int deck_size = 48;\n",
        "              int sum_cartas = 0;\n",
        "              while (sum_cartas < 21){\n",
        "                  int pos_carta = rand() % deck_size;\n",
        "                  sum_cartas += deck[pos_carta];\n",
        "                  deck[pos_carta] = deck[deck_size-1];\n",
        "                  deck[deck_size-1] = 0;\n",
        "                  deck_size--;\n",
        "              }\n",
        "              if (sum_cartas == 21){\n",
        "                  ganancias += 10;\n",
        "              } else {\n",
        "                  ganancias -= 10;\n",
        "              }\n",
        "          }\n",
        "      }\n",
        "  }\n",
        "  cout << \"\\n\\nPromedio de ganancias de Bob en un fin de semana: \" << ganancias/numero_simulaciones << \"\\n\\n\\n\";\n",
        "  return 0;\n",
        "}"
      ],
      "execution_count": null,
      "outputs": [
        {
          "output_type": "stream",
          "text": [
            "Overwriting test.cpp\n"
          ],
          "name": "stdout"
        }
      ]
    },
    {
      "cell_type": "code",
      "metadata": {
        "id": "NMsmPg4Q_L_h",
        "outputId": "8305bfb4-7587-45f6-fc2b-716b523e7d2c",
        "colab": {
          "base_uri": "https://localhost:8080/",
          "height": 255
        }
      },
      "source": [
        "%%time\n",
        "%%script bash\n",
        "g++ test.cpp -o test\n",
        "ls -laX\n",
        "./test"
      ],
      "execution_count": null,
      "outputs": [
        {
          "output_type": "stream",
          "text": [
            "total 36\n",
            "drwxr-xr-x 1 root root  4096 Sep 16 16:29 sample_data\n",
            "-rwxr-xr-x 1 root root 15696 Sep 21 00:38 test\n",
            "drwxr-xr-x 1 root root  4096 Sep 21 00:38 .\n",
            "drwxr-xr-x 1 root root  4096 Sep 20 15:49 ..\n",
            "drwxr-xr-x 1 root root  4096 Sep 16 16:29 .config\n",
            "-rw-r--r-- 1 root root  1780 Sep 21 00:38 test.cpp\n",
            "\n",
            "\n",
            "Promedio de ganancias de Bob en un fin de semana: -12873\n",
            "\n",
            "\n",
            "CPU times: user 7.14 ms, sys: 5 ms, total: 12.1 ms\n",
            "Wall time: 58.4 s\n"
          ],
          "name": "stdout"
        }
      ]
    },
    {
      "cell_type": "markdown",
      "metadata": {
        "id": "8qrqigtMjxD-"
      },
      "source": [
        "Gráfica"
      ]
    },
    {
      "cell_type": "code",
      "metadata": {
        "id": "chm2n9yFo4-P",
        "outputId": "7453f784-dbb5-4325-8d46-faaf5f3e5d49",
        "colab": {
          "base_uri": "https://localhost:8080/",
          "height": 282
        }
      },
      "source": [
        "# Con baraja española, hot deck de 12 cartas\n",
        "ganancias = 0\n",
        "n_cartas_ganadas_lista = []\n",
        "for i in range(numero_experimentos):\n",
        "  for j in range(600): #juegá 600 juegos en el fin de semana\n",
        "    if r.random() <= 0.1:\n",
        "      #HOT DECK - Juego con [7,7,5] iniciales y baraja caliente con 10 cartas\n",
        "      n_ganadas = 0\n",
        "      n_cartas_ganadas = 0\n",
        "      deck = [1,1,1,1,2,2,2,2,10,10,10,10]\n",
        "      sum_cartas = 19\n",
        "      n_cartas = 0\n",
        "      while sum_cartas < 21:\n",
        "        carta = r.choice(deck)\n",
        "        sum_cartas += carta\n",
        "        n_cartas += 1\n",
        "        deck.remove(carta)\n",
        "      if sum_cartas == 21:\n",
        "        n_ganadas += 1\n",
        "        n_cartas_ganadas += n_cartas\n",
        "        n_cartas_ganadas_lista.append(n_cartas)\n",
        "        ganancias += 1000\n",
        "      else:\n",
        "        ganancias -= 1000\n",
        "    else:\n",
        "      #COLD DECK - Juego con 0 cartas iniciales y baraja completa\n",
        "      deck = list(baraja_española_2)\n",
        "      n_ganadas = 0\n",
        "      n_cartas_ganadas = 0\n",
        "      sum_cartas = 0\n",
        "      n_cartas = 0\n",
        "      while sum_cartas < 21:\n",
        "        carta = r.choice(deck)\n",
        "        sum_cartas += carta\n",
        "        n_cartas += 1\n",
        "        deck.remove(carta)\n",
        "      if sum_cartas == 21:\n",
        "        n_ganadas += 1\n",
        "        n_cartas_ganadas += n_cartas\n",
        "        n_cartas_ganadas_lista.append(n_cartas)\n",
        "        ganancias += 10\n",
        "      else:\n",
        "        ganancias -= 10\n",
        "print(\"Ganancias en promedio de los fines de semana, baraja española y hot deck 12 cartas:\", ganancias/numero_experimentos)\n",
        "plt.hist(n_cartas_ganadas_lista, bins=15);"
      ],
      "execution_count": null,
      "outputs": [
        {
          "output_type": "stream",
          "text": [
            "Ganancias en promedio de los fines de semana, baraja española y hot deck 12 cartas: -12871.781\n"
          ],
          "name": "stdout"
        },
        {
          "output_type": "display_data",
          "data": {
            "image/png": "[encoded data removed]",
            "text/plain": [
              "<Figure size 432x288 with 1 Axes>"
            ]
          },
          "metadata": {
            "tags": [],
            "needs_background": "light"
          }
        }
      ]
    },
    {
      "cell_type": "markdown",
      "metadata": {
        "id": "j5pR8r7ljzBp"
      },
      "source": [
        "### 10 CARD HOT DECK - POKER DECK"
      ]
    },
    {
      "cell_type": "code",
      "metadata": {
        "id": "cgs8JS5tejKI",
        "outputId": "e4bb6ebf-f2d9-4b72-cf2d-44635ce81ba3",
        "colab": {
          "base_uri": "https://localhost:8080/",
          "height": 34
        }
      },
      "source": [
        "%%writefile test.cpp\n",
        "#include <bits/stdc++.h>\n",
        "#include <cstdlib>\n",
        "#include <ctime>\n",
        "\n",
        "using namespace std;\n",
        "\n",
        "//Con baraja de poker, hot deck de 10 cartas\n",
        "int main(int Argc,char* Args[]){\n",
        "  int numero_simulaciones = 1000000;\n",
        "  srand((unsigned) time(0));\n",
        "  long long ganancias = 0;\n",
        "  for (int i = 0; i < numero_simulaciones; i++){\n",
        "      for (int j = 0; j < 600; j++){\n",
        "          int is_hotdeck = rand()%10;\n",
        "          if (!is_hotdeck){\n",
        "              int deck[10] = {1,1,1,1,2,2,2,2,10,10};\n",
        "              int deck_size = 10;\n",
        "              int sum_cartas = 19;\n",
        "              while (sum_cartas < 21){\n",
        "                  int pos_carta = rand() % deck_size;\n",
        "                  sum_cartas += deck[pos_carta];\n",
        "                  deck[pos_carta] = deck[deck_size-1];\n",
        "                  deck[deck_size-1] = 0;\n",
        "                  deck_size--;\n",
        "              }\n",
        "              if (sum_cartas == 21){\n",
        "                  ganancias += 1000;\n",
        "              } else {\n",
        "                  ganancias -= 1000;\n",
        "              }\n",
        "          } else {\n",
        "              int deck[52] = {1,2,3,4,5,6,7,8,9,10,10,10,10,1,2,3,4,5,6,7,8,9,10,10,10,10,1,2,3,4,5,6,7,8,9,10,10,10,10,1,2,3,4,5,6,7,8,9,10,10,10,10};\n",
        "              int deck_size = 52;\n",
        "              int sum_cartas = 0;\n",
        "              while (sum_cartas < 21){\n",
        "                  int pos_carta = rand() % deck_size;\n",
        "                  sum_cartas += deck[pos_carta];\n",
        "                  deck[pos_carta] = deck[deck_size-1];\n",
        "                  deck[deck_size-1] = 0;\n",
        "                  deck_size--;\n",
        "              }\n",
        "              if (sum_cartas == 21){\n",
        "                  ganancias += 10;\n",
        "              } else {\n",
        "                  ganancias -= 10;\n",
        "              }\n",
        "          }\n",
        "      }\n",
        "  }\n",
        "  cout << \"\\n\\nPromedio de ganancias de Bob en un fin de semana: \" << ganancias/numero_simulaciones << \"\\n\\n\\n\";\n",
        "  return 0;\n",
        "}"
      ],
      "execution_count": null,
      "outputs": [
        {
          "output_type": "stream",
          "text": [
            "Overwriting test.cpp\n"
          ],
          "name": "stdout"
        }
      ]
    },
    {
      "cell_type": "code",
      "metadata": {
        "id": "yyXOpVEVCzHE",
        "outputId": "974cbf85-af23-472d-e560-769f399748cd",
        "colab": {
          "base_uri": "https://localhost:8080/",
          "height": 255
        }
      },
      "source": [
        "%%time\n",
        "%%script bash\n",
        "g++ test.cpp -o test\n",
        "ls -laX\n",
        "./test"
      ],
      "execution_count": null,
      "outputs": [
        {
          "output_type": "stream",
          "text": [
            "total 36\n",
            "drwxr-xr-x 1 root root  4096 Sep 16 16:29 sample_data\n",
            "-rwxr-xr-x 1 root root 15696 Sep 21 00:40 test\n",
            "drwxr-xr-x 1 root root  4096 Sep 21 00:40 .\n",
            "drwxr-xr-x 1 root root  4096 Sep 20 15:49 ..\n",
            "drwxr-xr-x 1 root root  4096 Sep 16 16:29 .config\n",
            "-rw-r--r-- 1 root root  1785 Sep 21 00:40 test.cpp\n",
            "\n",
            "\n",
            "Promedio de ganancias de Bob en un fin de semana: 125\n",
            "\n",
            "\n",
            "CPU times: user 7.21 ms, sys: 5 ms, total: 12.2 ms\n",
            "Wall time: 56.7 s\n"
          ],
          "name": "stdout"
        }
      ]
    },
    {
      "cell_type": "markdown",
      "metadata": {
        "id": "ukcmNErAj40Y"
      },
      "source": [
        "Gráfica"
      ]
    },
    {
      "cell_type": "code",
      "metadata": {
        "id": "M1VwnxJurhdx",
        "outputId": "7964cbe4-a823-4a0a-fc7b-f895a2380f99",
        "colab": {
          "base_uri": "https://localhost:8080/",
          "height": 282
        }
      },
      "source": [
        "# Con baraja poker, hot deck de 10 cartas\n",
        "ganancias = 0\n",
        "n_cartas_ganadas_lista = []\n",
        "for i in range(numero_experimentos):\n",
        "  for j in range(600): #juegá 600 juegos en el fin de semana\n",
        "    if r.random() <= 0.1:\n",
        "      #HOT DECK - Juego con [7,7,5] iniciales y baraja caliente con 10 cartas\n",
        "      n_ganadas = 0\n",
        "      n_cartas_ganadas = 0\n",
        "      deck = [1,1,1,1,2,2,2,2,10,10]\n",
        "      sum_cartas = 19\n",
        "      n_cartas = 0\n",
        "      while sum_cartas < 21:\n",
        "        carta = r.choice(deck)\n",
        "        sum_cartas += carta\n",
        "        n_cartas += 1\n",
        "        deck.remove(carta)\n",
        "      if sum_cartas == 21:\n",
        "        n_ganadas += 1\n",
        "        n_cartas_ganadas += n_cartas\n",
        "        n_cartas_ganadas_lista.append(n_cartas)\n",
        "        ganancias += 1000\n",
        "      else:\n",
        "        ganancias -= 1000\n",
        "    else:\n",
        "      #COLD DECK - Juego con 0 cartas iniciales y baraja completa\n",
        "      deck = list(baraja_poker_2)\n",
        "      n_ganadas = 0\n",
        "      n_cartas_ganadas = 0\n",
        "      sum_cartas = 0\n",
        "      n_cartas = 0\n",
        "      while sum_cartas < 21:\n",
        "        carta = r.choice(deck)\n",
        "        sum_cartas += carta\n",
        "        n_cartas += 1\n",
        "        deck.remove(carta)\n",
        "      if sum_cartas == 21:\n",
        "        n_ganadas += 1\n",
        "        n_cartas_ganadas += n_cartas\n",
        "        n_cartas_ganadas_lista.append(n_cartas)\n",
        "        ganancias += 10\n",
        "      else:\n",
        "        ganancias -= 10\n",
        "print(\"Ganancias en promedio de los fines de semana, baraja de poker y hot deck 10 cartas:\", ganancias/numero_experimentos)\n",
        "plt.hist(n_cartas_ganadas_lista, bins=15);"
      ],
      "execution_count": null,
      "outputs": [
        {
          "output_type": "stream",
          "text": [
            "Ganancias en promedio de los fines de semana, baraja de poker y hot deck 10 cartas: 199.488\n"
          ],
          "name": "stdout"
        },
        {
          "output_type": "display_data",
          "data": {
            "image/png": "[encoded data removed]",
            "text/plain": [
              "<Figure size 432x288 with 1 Axes>"
            ]
          },
          "metadata": {
            "tags": [],
            "needs_background": "light"
          }
        }
      ]
    },
    {
      "cell_type": "markdown",
      "metadata": {
        "id": "rkz5K67Vj7d-"
      },
      "source": [
        "### 12 CARD HOT DECK - POKER DECK"
      ]
    },
    {
      "cell_type": "code",
      "metadata": {
        "id": "XDZZN78pfRWG",
        "outputId": "e5cc55cb-afc3-42f6-ed05-e04195cb9511",
        "colab": {
          "base_uri": "https://localhost:8080/",
          "height": 34
        }
      },
      "source": [
        "%%writefile test.cpp\n",
        "#include <bits/stdc++.h>\n",
        "#include <cstdlib>\n",
        "#include <ctime>\n",
        "\n",
        "using namespace std;\n",
        "\n",
        "//Con baraja de poker, hot deck de 12 cartas\n",
        "int main(int Argc,char* Args[]){\n",
        "  int numero_simulaciones = 1000000;\n",
        "  srand((unsigned) time(0));\n",
        "  long long ganancias = 0;\n",
        "  for (int i = 0; i < numero_simulaciones; i++){\n",
        "      for (int j = 0; j < 600; j++){\n",
        "          int is_hotdeck = rand()%10;\n",
        "          if (!is_hotdeck){\n",
        "              int deck[12] = {1,1,1,1,2,2,2,2,10,10,10,10};\n",
        "              int deck_size = 12;\n",
        "              int sum_cartas = 19;\n",
        "              while (sum_cartas < 21){\n",
        "                  int pos_carta = rand() % deck_size;\n",
        "                  sum_cartas += deck[pos_carta];\n",
        "                  deck[pos_carta] = deck[deck_size-1];\n",
        "                  deck[deck_size-1] = 0;\n",
        "                  deck_size--;\n",
        "              }\n",
        "              if (sum_cartas == 21){\n",
        "                  ganancias += 1000;\n",
        "              } else {\n",
        "                  ganancias -= 1000;\n",
        "              }\n",
        "          } else {\n",
        "              int deck[52] = {1,2,3,4,5,6,7,8,9,10,10,10,10,1,2,3,4,5,6,7,8,9,10,10,10,10,1,2,3,4,5,6,7,8,9,10,10,10,10,1,2,3,4,5,6,7,8,9,10,10,10,10};\n",
        "              int deck_size = 52;\n",
        "              int sum_cartas = 0;\n",
        "              while (sum_cartas < 21){\n",
        "                  int pos_carta = rand() % deck_size;\n",
        "                  sum_cartas += deck[pos_carta];\n",
        "                  deck[pos_carta] = deck[deck_size-1];\n",
        "                  deck[deck_size-1] = 0;\n",
        "                  deck_size--;\n",
        "              }\n",
        "              if (sum_cartas == 21){\n",
        "                  ganancias += 10;\n",
        "              } else {\n",
        "                  ganancias -= 10;\n",
        "              }\n",
        "          }\n",
        "      }\n",
        "  }\n",
        "  cout << \"\\n\\nPromedio de ganancias de Bob en un fin de semana: \" << ganancias/numero_simulaciones << \"\\n\\n\\n\";\n",
        "  return 0;\n",
        "}"
      ],
      "execution_count": null,
      "outputs": [
        {
          "output_type": "stream",
          "text": [
            "Overwriting test.cpp\n"
          ],
          "name": "stdout"
        }
      ]
    },
    {
      "cell_type": "code",
      "metadata": {
        "id": "yW2gFdixFY3I",
        "outputId": "f1bd063f-2410-4dbf-e45f-516628900aa0",
        "colab": {
          "base_uri": "https://localhost:8080/",
          "height": 255
        }
      },
      "source": [
        "%%time\n",
        "%%script bash\n",
        "g++ test.cpp -o test\n",
        "ls -laX\n",
        "./test"
      ],
      "execution_count": null,
      "outputs": [
        {
          "output_type": "stream",
          "text": [
            "total 36\n",
            "drwxr-xr-x 1 root root  4096 Sep 16 16:29 sample_data\n",
            "-rwxr-xr-x 1 root root 15696 Sep 21 00:42 test\n",
            "drwxr-xr-x 1 root root  4096 Sep 21 00:42 .\n",
            "drwxr-xr-x 1 root root  4096 Sep 20 15:49 ..\n",
            "drwxr-xr-x 1 root root  4096 Sep 16 16:29 .config\n",
            "-rw-r--r-- 1 root root  1791 Sep 21 00:41 test.cpp\n",
            "\n",
            "\n",
            "Promedio de ganancias de Bob en un fin de semana: -12979\n",
            "\n",
            "\n",
            "CPU times: user 7.51 ms, sys: 8 ms, total: 15.5 ms\n",
            "Wall time: 1min 1s\n"
          ],
          "name": "stdout"
        }
      ]
    },
    {
      "cell_type": "markdown",
      "metadata": {
        "id": "Qqg-WdEGkJHa"
      },
      "source": [
        "Gráfica"
      ]
    },
    {
      "cell_type": "code",
      "metadata": {
        "id": "iR0ug7CMfv2x",
        "outputId": "df137ae0-9201-4ff4-d268-a6057a42e53d",
        "colab": {
          "base_uri": "https://localhost:8080/",
          "height": 282
        }
      },
      "source": [
        "# Con baraja de poker, hot deck de 12 cartas\n",
        "ganancias = 0\n",
        "n_cartas_ganadas_lista = []\n",
        "for i in range(numero_experimentos):\n",
        "  for j in range(600): #juegá 600 juegos en el fin de semana\n",
        "    if r.random() <= 0.1:\n",
        "      #HOT DECK - Juego con [7,7,5] iniciales y baraja caliente con 10 cartas\n",
        "      n_ganadas = 0\n",
        "      n_cartas_ganadas = 0\n",
        "      deck = [1,1,1,1,2,2,2,2,10,10,10,10]\n",
        "      sum_cartas = 19\n",
        "      n_cartas = 0\n",
        "      while sum_cartas < 21:\n",
        "        carta = r.choice(deck)\n",
        "        sum_cartas += carta\n",
        "        n_cartas += 1\n",
        "        deck.remove(carta)\n",
        "      if sum_cartas == 21:\n",
        "        n_ganadas += 1\n",
        "        n_cartas_ganadas += n_cartas\n",
        "        n_cartas_ganadas_lista.append(n_cartas)\n",
        "        ganancias += 1000\n",
        "      else:\n",
        "        ganancias -= 1000\n",
        "    else:\n",
        "      #COLD DECK - Juego con 0 cartas iniciales y baraja completa\n",
        "      deck = list(baraja_poker_2)\n",
        "      n_ganadas = 0\n",
        "      n_cartas_ganadas = 0\n",
        "      sum_cartas = 0\n",
        "      n_cartas = 0\n",
        "      while sum_cartas < 21:\n",
        "        carta = r.choice(deck)\n",
        "        sum_cartas += carta\n",
        "        n_cartas += 1\n",
        "        deck.remove(carta)\n",
        "      if sum_cartas == 21:\n",
        "        n_ganadas += 1\n",
        "        n_cartas_ganadas += n_cartas\n",
        "        n_cartas_ganadas_lista.append(n_cartas)\n",
        "        ganancias += 10\n",
        "      else:\n",
        "        ganancias -= 10\n",
        "print(\"Ganancias en promedio de los fines de semana, baraja española y hot deck 12 cartas:\", ganancias/numero_experimentos)\n",
        "plt.hist(n_cartas_ganadas_lista, bins=15);"
      ],
      "execution_count": null,
      "outputs": [
        {
          "output_type": "stream",
          "text": [
            "Ganancias en promedio de los fines de semana, baraja española y hot deck 12 cartas: -12889.513\n"
          ],
          "name": "stdout"
        },
        {
          "output_type": "display_data",
          "data": {
            "image/png": "[encoded data removed]",
            "text/plain": [
              "<Figure size 432x288 with 1 Axes>"
            ]
          },
          "metadata": {
            "tags": [],
            "needs_background": "light"
          }
        }
      ]
    }
  ]
}